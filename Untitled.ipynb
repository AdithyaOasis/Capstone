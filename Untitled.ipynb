{
 "cells": [
  {
   "cell_type": "code",
   "execution_count": 1,
   "id": "7ba5abae",
   "metadata": {
    "ExecuteTime": {
     "end_time": "2021-08-16T03:27:33.293311Z",
     "start_time": "2021-08-16T03:27:24.540649Z"
    },
    "collapsed": true
   },
   "outputs": [
    {
     "name": "stdout",
     "output_type": "stream",
     "text": [
      "Requirement already satisfied: transformers in d:\\adi\\work\\clg\\capstone\\capstone\\venv\\lib\\site-packages (4.8.2)"
     ]
    },
    {
     "name": "stderr",
     "output_type": "stream",
     "text": [
      "WARNING: Ignoring invalid distribution -ip (d:\\adi\\work\\clg\\capstone\\capstone\\venv\\lib\\site-packages)\n",
      "WARNING: Ignoring invalid distribution -ip (d:\\adi\\work\\clg\\capstone\\capstone\\venv\\lib\\site-packages)\n",
      "WARNING: Ignoring invalid distribution -ip (d:\\adi\\work\\clg\\capstone\\capstone\\venv\\lib\\site-packages)\n",
      "WARNING: Ignoring invalid distribution -ip (d:\\adi\\work\\clg\\capstone\\capstone\\venv\\lib\\site-packages)\n",
      "WARNING: Ignoring invalid distribution -ip (d:\\adi\\work\\clg\\capstone\\capstone\\venv\\lib\\site-packages)\n",
      "WARNING: Ignoring invalid distribution -ip (d:\\adi\\work\\clg\\capstone\\capstone\\venv\\lib\\site-packages)\n",
      "WARNING: You are using pip version 21.1.3; however, version 21.2.4 is available.\n",
      "You should consider upgrading via the 'd:\\adi\\work\\clg\\capstone\\capstone\\venv\\scripts\\python.exe -m pip install --upgrade pip' command.\n"
     ]
    },
    {
     "name": "stdout",
     "output_type": "stream",
     "text": [
      "\n",
      "Requirement already satisfied: sacremoses in d:\\adi\\work\\clg\\capstone\\capstone\\venv\\lib\\site-packages (from transformers) (0.0.45)\n",
      "Requirement already satisfied: filelock in d:\\adi\\work\\clg\\capstone\\capstone\\venv\\lib\\site-packages (from transformers) (3.0.12)\n",
      "Requirement already satisfied: pyyaml in d:\\adi\\work\\clg\\capstone\\capstone\\venv\\lib\\site-packages (from transformers) (5.4.1)\n",
      "Requirement already satisfied: huggingface-hub==0.0.12 in d:\\adi\\work\\clg\\capstone\\capstone\\venv\\lib\\site-packages (from transformers) (0.0.12)\n",
      "Requirement already satisfied: packaging in d:\\adi\\work\\clg\\capstone\\capstone\\venv\\lib\\site-packages (from transformers) (20.9)\n",
      "Requirement already satisfied: numpy>=1.17 in d:\\adi\\work\\clg\\capstone\\capstone\\venv\\lib\\site-packages (from transformers) (1.21.0)\n",
      "Requirement already satisfied: importlib-metadata in d:\\adi\\work\\clg\\capstone\\capstone\\venv\\lib\\site-packages (from transformers) (4.3.1)\n",
      "Requirement already satisfied: requests in d:\\adi\\work\\clg\\capstone\\capstone\\venv\\lib\\site-packages (from transformers) (2.25.1)\n",
      "Requirement already satisfied: regex!=2019.12.17 in d:\\adi\\work\\clg\\capstone\\capstone\\venv\\lib\\site-packages (from transformers) (2021.4.4)\n",
      "Requirement already satisfied: tokenizers<0.11,>=0.10.1 in d:\\adi\\work\\clg\\capstone\\capstone\\venv\\lib\\site-packages (from transformers) (0.10.3)\n",
      "Requirement already satisfied: tqdm>=4.27 in d:\\adi\\work\\clg\\capstone\\capstone\\venv\\lib\\site-packages (from transformers) (4.61.1)\n",
      "Requirement already satisfied: typing-extensions in d:\\adi\\work\\clg\\capstone\\capstone\\venv\\lib\\site-packages (from huggingface-hub==0.0.12->transformers) (3.7.4.3)\n",
      "Requirement already satisfied: pyparsing>=2.0.2 in d:\\adi\\work\\clg\\capstone\\capstone\\venv\\lib\\site-packages (from packaging->transformers) (2.4.7)\n",
      "Requirement already satisfied: zipp>=0.5 in d:\\adi\\work\\clg\\capstone\\capstone\\venv\\lib\\site-packages (from importlib-metadata->transformers) (3.4.1)\n",
      "Requirement already satisfied: certifi>=2017.4.17 in d:\\adi\\work\\clg\\capstone\\capstone\\venv\\lib\\site-packages (from requests->transformers) (2020.12.5)\n",
      "Requirement already satisfied: idna<3,>=2.5 in d:\\adi\\work\\clg\\capstone\\capstone\\venv\\lib\\site-packages (from requests->transformers) (2.6)\n",
      "Requirement already satisfied: chardet<5,>=3.0.2 in d:\\adi\\work\\clg\\capstone\\capstone\\venv\\lib\\site-packages (from requests->transformers) (3.0.4)\n",
      "Requirement already satisfied: urllib3<1.27,>=1.21.1 in d:\\adi\\work\\clg\\capstone\\capstone\\venv\\lib\\site-packages (from requests->transformers) (1.26.5)\n",
      "Requirement already satisfied: six in d:\\adi\\work\\clg\\capstone\\capstone\\venv\\lib\\site-packages (from sacremoses->transformers) (1.15.0)\n",
      "Requirement already satisfied: click in d:\\adi\\work\\clg\\capstone\\capstone\\venv\\lib\\site-packages (from sacremoses->transformers) (8.0.1)\n",
      "Requirement already satisfied: joblib in d:\\adi\\work\\clg\\capstone\\capstone\\venv\\lib\\site-packages (from sacremoses->transformers) (1.0.1)\n",
      "Requirement already satisfied: colorama in d:\\adi\\work\\clg\\capstone\\capstone\\venv\\lib\\site-packages (from click->sacremoses->transformers) (0.4.4)\n"
     ]
    }
   ],
   "source": [
    "!pip install transformers"
   ]
  },
  {
   "cell_type": "code",
   "execution_count": 3,
   "id": "5d6ca861",
   "metadata": {
    "ExecuteTime": {
     "end_time": "2021-08-16T03:30:35.551890Z",
     "start_time": "2021-08-16T03:30:30.521745Z"
    }
   },
   "outputs": [],
   "source": [
    "import torch\n",
    "from transformers import BertTokenizer, BertModel\n",
    "\n",
    "# OPTIONAL: if you want to have more information on what's happening, activate the logger as follows\n",
    "import logging\n",
    "#logging.basicConfig(level=logging.INFO)\n",
    "\n",
    "import matplotlib.pyplot as plt\n",
    "# % matplotlib inline\n",
    "\n",
    "# Load pre-trained model tokenizer (vocabulary)\n",
    "tokenizer = BertTokenizer.from_pretrained('bert-base-uncased')\n"
   ]
  },
  {
   "cell_type": "code",
   "execution_count": 48,
   "id": "aed9465b",
   "metadata": {
    "ExecuteTime": {
     "end_time": "2021-08-16T05:30:45.399490Z",
     "start_time": "2021-08-16T05:30:45.274494Z"
    }
   },
   "outputs": [],
   "source": [
    "class BertEncoding:\n",
    "    def __init__(self,text):\n",
    "        self.text = text\n",
    "        self.tokens_tensor,self.segments_tensor = self.textPreprocessing()\n",
    "        self.final_val = generateEmbedding(self.tokens_tensor,self.segments_tensor)\n",
    "\n",
    "    def TextPreprocessing(self):\n",
    "        marked_text = \"[CLS] \" + self.text + \" [SEP]\"\n",
    "        # Tokenize our sentence with the BERT tokenizer.\n",
    "        tokenized_text = tokenizer.tokenize(marked_text)\n",
    "        indexed_tokens = tokenizer.convert_tokens_to_ids(tokenized_text)\n",
    "        segments_ids = [1] * len(tokenized_text)\n",
    "        tokens_tensor = torch.tensor([indexed_tokens])\n",
    "        segments_tensors = torch.tensor([segments_ids])\n",
    "    \n",
    "    def generateEmbedding(self,tokens_tensor,segments_tensor):\n",
    "        model = BertModel.from_pretrained('bert-base-uncased',\n",
    "                                  output_hidden_states = True, # Whether the model returns all hidden-states.\n",
    "                                  )\n",
    "        # Put the model in \"evaluation\" mode, meaning feed-forward operation.\n",
    "        model.eval()\n",
    "        with torch.no_grad():\n",
    "            outputs = model(tokens_tensor, segments_tensors)\n",
    "            hidden_states = outputs[2]\n",
    "        tokens = torch.stack(hidden_states,dim=0)\n",
    "        tokens = tokens.squeeze(dim=1)\n",
    "        tokens = tokens.permute(1,0,2)\n",
    "        final_val = tokens[:,-2,:]\n",
    "        final_val.unsqueeze(dim=0).size()\n",
    "        return final_val"
   ]
  }
 ],
 "metadata": {
  "kernelspec": {
   "display_name": "myenv",
   "language": "python",
   "name": "myenv"
  },
  "language_info": {
   "codemirror_mode": {
    "name": "ipython",
    "version": 3
   },
   "file_extension": ".py",
   "mimetype": "text/x-python",
   "name": "python",
   "nbconvert_exporter": "python",
   "pygments_lexer": "ipython3",
   "version": "3.7.6"
  },
  "toc": {
   "base_numbering": 1,
   "nav_menu": {},
   "number_sections": true,
   "sideBar": true,
   "skip_h1_title": false,
   "title_cell": "Table of Contents",
   "title_sidebar": "Contents",
   "toc_cell": false,
   "toc_position": {},
   "toc_section_display": true,
   "toc_window_display": false
  }
 },
 "nbformat": 4,
 "nbformat_minor": 5
}
