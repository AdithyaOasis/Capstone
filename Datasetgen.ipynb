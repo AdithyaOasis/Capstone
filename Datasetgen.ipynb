{
 "cells": [
  {
   "cell_type": "code",
   "execution_count": 1,
   "id": "4c673c42",
   "metadata": {},
   "outputs": [],
   "source": [
    "import pandas as pd"
   ]
  },
  {
   "cell_type": "code",
   "execution_count": 2,
   "id": "024c65f3",
   "metadata": {},
   "outputs": [],
   "source": [
    "df1=pd.read_csv(\"train.tsv\",sep='\\t',header=0)"
   ]
  },
  {
   "cell_type": "code",
   "execution_count": 3,
   "id": "6840ead9",
   "metadata": {},
   "outputs": [
    {
     "data": {
      "text/html": [
       "<div>\n",
       "<style scoped>\n",
       "    .dataframe tbody tr th:only-of-type {\n",
       "        vertical-align: middle;\n",
       "    }\n",
       "\n",
       "    .dataframe tbody tr th {\n",
       "        vertical-align: top;\n",
       "    }\n",
       "\n",
       "    .dataframe thead th {\n",
       "        text-align: right;\n",
       "    }\n",
       "</style>\n",
       "<table border=\"1\" class=\"dataframe\">\n",
       "  <thead>\n",
       "    <tr style=\"text-align: right;\">\n",
       "      <th></th>\n",
       "      <th>Id</th>\n",
       "      <th>EssaySet</th>\n",
       "      <th>Score1</th>\n",
       "      <th>Score2</th>\n",
       "      <th>EssayText</th>\n",
       "    </tr>\n",
       "  </thead>\n",
       "  <tbody>\n",
       "    <tr>\n",
       "      <th>0</th>\n",
       "      <td>1</td>\n",
       "      <td>1</td>\n",
       "      <td>1</td>\n",
       "      <td>1</td>\n",
       "      <td>Some additional information that we would need...</td>\n",
       "    </tr>\n",
       "    <tr>\n",
       "      <th>1</th>\n",
       "      <td>2</td>\n",
       "      <td>1</td>\n",
       "      <td>1</td>\n",
       "      <td>1</td>\n",
       "      <td>After reading the expirement, I realized that ...</td>\n",
       "    </tr>\n",
       "    <tr>\n",
       "      <th>2</th>\n",
       "      <td>3</td>\n",
       "      <td>1</td>\n",
       "      <td>1</td>\n",
       "      <td>1</td>\n",
       "      <td>What you need is more trials, a control set up...</td>\n",
       "    </tr>\n",
       "    <tr>\n",
       "      <th>3</th>\n",
       "      <td>4</td>\n",
       "      <td>1</td>\n",
       "      <td>0</td>\n",
       "      <td>0</td>\n",
       "      <td>The student should list what rock is better an...</td>\n",
       "    </tr>\n",
       "    <tr>\n",
       "      <th>4</th>\n",
       "      <td>5</td>\n",
       "      <td>1</td>\n",
       "      <td>2</td>\n",
       "      <td>2</td>\n",
       "      <td>For the students to be able to make a replicat...</td>\n",
       "    </tr>\n",
       "  </tbody>\n",
       "</table>\n",
       "</div>"
      ],
      "text/plain": [
       "   Id  EssaySet  Score1  Score2  \\\n",
       "0   1         1       1       1   \n",
       "1   2         1       1       1   \n",
       "2   3         1       1       1   \n",
       "3   4         1       0       0   \n",
       "4   5         1       2       2   \n",
       "\n",
       "                                           EssayText  \n",
       "0  Some additional information that we would need...  \n",
       "1  After reading the expirement, I realized that ...  \n",
       "2  What you need is more trials, a control set up...  \n",
       "3  The student should list what rock is better an...  \n",
       "4  For the students to be able to make a replicat...  "
      ]
     },
     "execution_count": 3,
     "metadata": {},
     "output_type": "execute_result"
    }
   ],
   "source": [
    "df1.head()"
   ]
  },
  {
   "cell_type": "code",
   "execution_count": 4,
   "id": "8b8f6eee",
   "metadata": {},
   "outputs": [],
   "source": [
    "qs=[\"What are the additional pieces of information that would be needed to accurately replicate the experiment of acid rain?\",\"soon\",\"Explain how pandas in china are similar to koalas in australia and how they both are different from pythons.support your information with information from the article\"]"
   ]
  },
  {
   "cell_type": "code",
   "execution_count": 5,
   "id": "e2f4d3fc",
   "metadata": {},
   "outputs": [],
   "source": [
    "qs.append(\"Explain the significance of the word invasive to the rest of the article.support your information with information from the article\")"
   ]
  },
  {
   "cell_type": "code",
   "execution_count": 6,
   "id": "0558a7a6",
   "metadata": {},
   "outputs": [],
   "source": [
    "qs.append(\"starting with mRNA leaving the nucleus,list & describe four major steps involved in protein synthesis.\")"
   ]
  },
  {
   "cell_type": "code",
   "execution_count": 7,
   "id": "18e71601",
   "metadata": {},
   "outputs": [],
   "source": [
    "qs.append(\"List & describe three processes used by cells to control the movement of substances across the cell membrane.\")"
   ]
  },
  {
   "cell_type": "code",
   "execution_count": 8,
   "id": "341cb013",
   "metadata": {},
   "outputs": [],
   "source": [
    "qs.append(\"This item requires a two-part response. The student must identify one character trait of Rose, as well as include story details that adequately support the answer. The response should be related to the conversations with Anna or Aunt Kolab. In order to receive ANY credit, the student must provide a creditable response to the first part of the question. An additional point is awarded if the student provides a creditable response to the second part of the question.\")"
   ]
  },
  {
   "cell_type": "code",
   "execution_count": 9,
   "id": "d90816a7",
   "metadata": {},
   "outputs": [],
   "source": [
    "qs.append(\"During the story, the reader gets background information about Mr.Leonard.Explain the effect that background information has on Paul.Support your response with details from the story.\")"
   ]
  },
  {
   "cell_type": "code",
   "execution_count": 10,
   "id": "a6bf1fcc",
   "metadata": {},
   "outputs": [],
   "source": [
    "qs.append(\"How does the author authorise the article? Support your response with details from the article\")"
   ]
  },
  {
   "cell_type": "code",
   "execution_count": 11,
   "id": "61fdd766",
   "metadata": {},
   "outputs": [],
   "source": [
    "qs.append(\"Brandi and Jerry were designing a doghouse.Use the results from the experiment to describe the best paint color for the doghouse.\")"
   ]
  },
  {
   "cell_type": "code",
   "execution_count": 12,
   "id": "c53fd62c",
   "metadata": {},
   "outputs": [
    {
     "data": {
      "text/plain": [
       "['What are the additional pieces of information that would be needed to accurately replicate the experiment of acid rain?',\n",
       " 'soon',\n",
       " 'Explain how pandas in china are similar to koalas in australia and how they both are different from pythons.support your information with information from the article',\n",
       " 'Explain the significance of the word invasive to the rest of the article.support your information with information from the article',\n",
       " 'starting with mRNA leaving the nucleus,list & describe four major steps involved in protein synthesis.',\n",
       " 'List & describe three processes used by cells to control the movement of substances across the cell membrane.',\n",
       " 'This item requires a two-part response. The student must identify one character trait of Rose, as well as include story details that adequately support the answer. The response should be related to the conversations with Anna or Aunt Kolab. In order to receive ANY credit, the student must provide a creditable response to the first part of the question. An additional point is awarded if the student provides a creditable response to the second part of the question.',\n",
       " 'During the story, the reader gets background information about Mr.Leonard.Explain the effect that background information has on Paul.Support your response with details from the story.',\n",
       " 'How does the author authorise the article? Support your response with details from the article',\n",
       " 'Brandi and Jerry were designing a doghouse.Use the results from the experiment to describe the best paint color for the doghouse.']"
      ]
     },
     "execution_count": 12,
     "metadata": {},
     "output_type": "execute_result"
    }
   ],
   "source": [
    "qs"
   ]
  },
  {
   "cell_type": "code",
   "execution_count": 13,
   "id": "7dabfa9b",
   "metadata": {},
   "outputs": [],
   "source": [
    "df1[\"questions\"]=\"scam\""
   ]
  },
  {
   "cell_type": "code",
   "execution_count": 14,
   "id": "87110da2",
   "metadata": {},
   "outputs": [
    {
     "data": {
      "text/html": [
       "<div>\n",
       "<style scoped>\n",
       "    .dataframe tbody tr th:only-of-type {\n",
       "        vertical-align: middle;\n",
       "    }\n",
       "\n",
       "    .dataframe tbody tr th {\n",
       "        vertical-align: top;\n",
       "    }\n",
       "\n",
       "    .dataframe thead th {\n",
       "        text-align: right;\n",
       "    }\n",
       "</style>\n",
       "<table border=\"1\" class=\"dataframe\">\n",
       "  <thead>\n",
       "    <tr style=\"text-align: right;\">\n",
       "      <th></th>\n",
       "      <th>Id</th>\n",
       "      <th>EssaySet</th>\n",
       "      <th>Score1</th>\n",
       "      <th>Score2</th>\n",
       "      <th>EssayText</th>\n",
       "      <th>questions</th>\n",
       "    </tr>\n",
       "  </thead>\n",
       "  <tbody>\n",
       "    <tr>\n",
       "      <th>0</th>\n",
       "      <td>1</td>\n",
       "      <td>1</td>\n",
       "      <td>1</td>\n",
       "      <td>1</td>\n",
       "      <td>Some additional information that we would need...</td>\n",
       "      <td>scam</td>\n",
       "    </tr>\n",
       "    <tr>\n",
       "      <th>1</th>\n",
       "      <td>2</td>\n",
       "      <td>1</td>\n",
       "      <td>1</td>\n",
       "      <td>1</td>\n",
       "      <td>After reading the expirement, I realized that ...</td>\n",
       "      <td>scam</td>\n",
       "    </tr>\n",
       "    <tr>\n",
       "      <th>2</th>\n",
       "      <td>3</td>\n",
       "      <td>1</td>\n",
       "      <td>1</td>\n",
       "      <td>1</td>\n",
       "      <td>What you need is more trials, a control set up...</td>\n",
       "      <td>scam</td>\n",
       "    </tr>\n",
       "    <tr>\n",
       "      <th>3</th>\n",
       "      <td>4</td>\n",
       "      <td>1</td>\n",
       "      <td>0</td>\n",
       "      <td>0</td>\n",
       "      <td>The student should list what rock is better an...</td>\n",
       "      <td>scam</td>\n",
       "    </tr>\n",
       "    <tr>\n",
       "      <th>4</th>\n",
       "      <td>5</td>\n",
       "      <td>1</td>\n",
       "      <td>2</td>\n",
       "      <td>2</td>\n",
       "      <td>For the students to be able to make a replicat...</td>\n",
       "      <td>scam</td>\n",
       "    </tr>\n",
       "  </tbody>\n",
       "</table>\n",
       "</div>"
      ],
      "text/plain": [
       "   Id  EssaySet  Score1  Score2  \\\n",
       "0   1         1       1       1   \n",
       "1   2         1       1       1   \n",
       "2   3         1       1       1   \n",
       "3   4         1       0       0   \n",
       "4   5         1       2       2   \n",
       "\n",
       "                                           EssayText questions  \n",
       "0  Some additional information that we would need...      scam  \n",
       "1  After reading the expirement, I realized that ...      scam  \n",
       "2  What you need is more trials, a control set up...      scam  \n",
       "3  The student should list what rock is better an...      scam  \n",
       "4  For the students to be able to make a replicat...      scam  "
      ]
     },
     "execution_count": 14,
     "metadata": {},
     "output_type": "execute_result"
    }
   ],
   "source": [
    "df1.head()"
   ]
  },
  {
   "cell_type": "code",
   "execution_count": 15,
   "id": "a4892688",
   "metadata": {},
   "outputs": [],
   "source": [
    "df1.loc[df1.EssaySet == 10, 'questions'] = qs[9]\n",
    "df1.loc[df1.EssaySet == 9, 'questions'] = qs[8]\n",
    "df1.loc[df1.EssaySet == 8, 'questions'] = qs[7]\n",
    "df1.loc[df1.EssaySet == 7, 'questions'] = qs[6]\n",
    "df1.loc[df1.EssaySet == 6, 'questions'] = qs[5]\n",
    "df1.loc[df1.EssaySet == 5, 'questions'] = qs[4]\n",
    "df1.loc[df1.EssaySet == 4, 'questions'] = qs[3]\n",
    "df1.loc[df1.EssaySet == 3, 'questions'] = qs[2]\n",
    "df1.loc[df1.EssaySet == 2, 'questions'] = qs[1]\n",
    "df1.loc[df1.EssaySet == 1, 'questions'] = qs[0]"
   ]
  },
  {
   "cell_type": "code",
   "execution_count": 16,
   "id": "041dc702",
   "metadata": {},
   "outputs": [
    {
     "data": {
      "text/html": [
       "<div>\n",
       "<style scoped>\n",
       "    .dataframe tbody tr th:only-of-type {\n",
       "        vertical-align: middle;\n",
       "    }\n",
       "\n",
       "    .dataframe tbody tr th {\n",
       "        vertical-align: top;\n",
       "    }\n",
       "\n",
       "    .dataframe thead th {\n",
       "        text-align: right;\n",
       "    }\n",
       "</style>\n",
       "<table border=\"1\" class=\"dataframe\">\n",
       "  <thead>\n",
       "    <tr style=\"text-align: right;\">\n",
       "      <th></th>\n",
       "      <th>Id</th>\n",
       "      <th>EssaySet</th>\n",
       "      <th>Score1</th>\n",
       "      <th>Score2</th>\n",
       "      <th>EssayText</th>\n",
       "      <th>questions</th>\n",
       "    </tr>\n",
       "  </thead>\n",
       "  <tbody>\n",
       "    <tr>\n",
       "      <th>0</th>\n",
       "      <td>1</td>\n",
       "      <td>1</td>\n",
       "      <td>1</td>\n",
       "      <td>1</td>\n",
       "      <td>Some additional information that we would need...</td>\n",
       "      <td>What are the additional pieces of information ...</td>\n",
       "    </tr>\n",
       "    <tr>\n",
       "      <th>1</th>\n",
       "      <td>2</td>\n",
       "      <td>1</td>\n",
       "      <td>1</td>\n",
       "      <td>1</td>\n",
       "      <td>After reading the expirement, I realized that ...</td>\n",
       "      <td>What are the additional pieces of information ...</td>\n",
       "    </tr>\n",
       "    <tr>\n",
       "      <th>2</th>\n",
       "      <td>3</td>\n",
       "      <td>1</td>\n",
       "      <td>1</td>\n",
       "      <td>1</td>\n",
       "      <td>What you need is more trials, a control set up...</td>\n",
       "      <td>What are the additional pieces of information ...</td>\n",
       "    </tr>\n",
       "    <tr>\n",
       "      <th>3</th>\n",
       "      <td>4</td>\n",
       "      <td>1</td>\n",
       "      <td>0</td>\n",
       "      <td>0</td>\n",
       "      <td>The student should list what rock is better an...</td>\n",
       "      <td>What are the additional pieces of information ...</td>\n",
       "    </tr>\n",
       "    <tr>\n",
       "      <th>4</th>\n",
       "      <td>5</td>\n",
       "      <td>1</td>\n",
       "      <td>2</td>\n",
       "      <td>2</td>\n",
       "      <td>For the students to be able to make a replicat...</td>\n",
       "      <td>What are the additional pieces of information ...</td>\n",
       "    </tr>\n",
       "  </tbody>\n",
       "</table>\n",
       "</div>"
      ],
      "text/plain": [
       "   Id  EssaySet  Score1  Score2  \\\n",
       "0   1         1       1       1   \n",
       "1   2         1       1       1   \n",
       "2   3         1       1       1   \n",
       "3   4         1       0       0   \n",
       "4   5         1       2       2   \n",
       "\n",
       "                                           EssayText  \\\n",
       "0  Some additional information that we would need...   \n",
       "1  After reading the expirement, I realized that ...   \n",
       "2  What you need is more trials, a control set up...   \n",
       "3  The student should list what rock is better an...   \n",
       "4  For the students to be able to make a replicat...   \n",
       "\n",
       "                                           questions  \n",
       "0  What are the additional pieces of information ...  \n",
       "1  What are the additional pieces of information ...  \n",
       "2  What are the additional pieces of information ...  \n",
       "3  What are the additional pieces of information ...  \n",
       "4  What are the additional pieces of information ...  "
      ]
     },
     "execution_count": 16,
     "metadata": {},
     "output_type": "execute_result"
    }
   ],
   "source": [
    "df1.head()"
   ]
  },
  {
   "cell_type": "code",
   "execution_count": 17,
   "id": "58cae97d",
   "metadata": {},
   "outputs": [
    {
     "data": {
      "text/html": [
       "<div>\n",
       "<style scoped>\n",
       "    .dataframe tbody tr th:only-of-type {\n",
       "        vertical-align: middle;\n",
       "    }\n",
       "\n",
       "    .dataframe tbody tr th {\n",
       "        vertical-align: top;\n",
       "    }\n",
       "\n",
       "    .dataframe thead th {\n",
       "        text-align: right;\n",
       "    }\n",
       "</style>\n",
       "<table border=\"1\" class=\"dataframe\">\n",
       "  <thead>\n",
       "    <tr style=\"text-align: right;\">\n",
       "      <th></th>\n",
       "      <th>Id</th>\n",
       "      <th>EssaySet</th>\n",
       "      <th>Score1</th>\n",
       "      <th>Score2</th>\n",
       "      <th>EssayText</th>\n",
       "      <th>questions</th>\n",
       "    </tr>\n",
       "  </thead>\n",
       "  <tbody>\n",
       "    <tr>\n",
       "      <th>17202</th>\n",
       "      <td>27584</td>\n",
       "      <td>10</td>\n",
       "      <td>1</td>\n",
       "      <td>1</td>\n",
       "      <td>white :: white becuase if you live in a hot pl...</td>\n",
       "      <td>Brandi and Jerry were designing a doghouse.Use...</td>\n",
       "    </tr>\n",
       "    <tr>\n",
       "      <th>17203</th>\n",
       "      <td>27585</td>\n",
       "      <td>10</td>\n",
       "      <td>1</td>\n",
       "      <td>1</td>\n",
       "      <td>light gray :: This color will affect the dogho...</td>\n",
       "      <td>Brandi and Jerry were designing a doghouse.Use...</td>\n",
       "    </tr>\n",
       "    <tr>\n",
       "      <th>17204</th>\n",
       "      <td>27586</td>\n",
       "      <td>10</td>\n",
       "      <td>1</td>\n",
       "      <td>1</td>\n",
       "      <td>light gray :: i think light gray would work th...</td>\n",
       "      <td>Brandi and Jerry were designing a doghouse.Use...</td>\n",
       "    </tr>\n",
       "    <tr>\n",
       "      <th>17205</th>\n",
       "      <td>27587</td>\n",
       "      <td>10</td>\n",
       "      <td>1</td>\n",
       "      <td>0</td>\n",
       "      <td>dark gray ::  if they painted the doghouse dar...</td>\n",
       "      <td>Brandi and Jerry were designing a doghouse.Use...</td>\n",
       "    </tr>\n",
       "    <tr>\n",
       "      <th>17206</th>\n",
       "      <td>27588</td>\n",
       "      <td>10</td>\n",
       "      <td>0</td>\n",
       "      <td>1</td>\n",
       "      <td>white :: the black would affect the doghouse b...</td>\n",
       "      <td>Brandi and Jerry were designing a doghouse.Use...</td>\n",
       "    </tr>\n",
       "  </tbody>\n",
       "</table>\n",
       "</div>"
      ],
      "text/plain": [
       "          Id  EssaySet  Score1  Score2  \\\n",
       "17202  27584        10       1       1   \n",
       "17203  27585        10       1       1   \n",
       "17204  27586        10       1       1   \n",
       "17205  27587        10       1       0   \n",
       "17206  27588        10       0       1   \n",
       "\n",
       "                                               EssayText  \\\n",
       "17202  white :: white becuase if you live in a hot pl...   \n",
       "17203  light gray :: This color will affect the dogho...   \n",
       "17204  light gray :: i think light gray would work th...   \n",
       "17205  dark gray ::  if they painted the doghouse dar...   \n",
       "17206  white :: the black would affect the doghouse b...   \n",
       "\n",
       "                                               questions  \n",
       "17202  Brandi and Jerry were designing a doghouse.Use...  \n",
       "17203  Brandi and Jerry were designing a doghouse.Use...  \n",
       "17204  Brandi and Jerry were designing a doghouse.Use...  \n",
       "17205  Brandi and Jerry were designing a doghouse.Use...  \n",
       "17206  Brandi and Jerry were designing a doghouse.Use...  "
      ]
     },
     "execution_count": 17,
     "metadata": {},
     "output_type": "execute_result"
    }
   ],
   "source": [
    "df1.tail()"
   ]
  },
  {
   "cell_type": "code",
   "execution_count": 18,
   "id": "1fb4ef83",
   "metadata": {},
   "outputs": [],
   "source": [
    "full_marks=[3]"
   ]
  },
  {
   "cell_type": "code",
   "execution_count": 19,
   "id": "683de157",
   "metadata": {},
   "outputs": [],
   "source": [
    "full_marks.append(3)"
   ]
  },
  {
   "cell_type": "code",
   "execution_count": 20,
   "id": "1a74f7c3",
   "metadata": {},
   "outputs": [],
   "source": [
    "full_marks.append(3)"
   ]
  },
  {
   "cell_type": "code",
   "execution_count": 21,
   "id": "70511f77",
   "metadata": {},
   "outputs": [],
   "source": [
    "full_marks.append(2)"
   ]
  },
  {
   "cell_type": "code",
   "execution_count": 22,
   "id": "a1381e00",
   "metadata": {},
   "outputs": [],
   "source": [
    "full_marks.append(2)"
   ]
  },
  {
   "cell_type": "code",
   "execution_count": 23,
   "id": "ea43a177",
   "metadata": {},
   "outputs": [],
   "source": [
    "full_marks.append(3)"
   ]
  },
  {
   "cell_type": "code",
   "execution_count": 24,
   "id": "6a8c3454",
   "metadata": {},
   "outputs": [
    {
     "data": {
      "text/plain": [
       "[3, 3, 3, 2, 2, 3]"
      ]
     },
     "execution_count": 24,
     "metadata": {},
     "output_type": "execute_result"
    }
   ],
   "source": [
    "full_marks"
   ]
  },
  {
   "cell_type": "code",
   "execution_count": 25,
   "id": "86e4cabc",
   "metadata": {},
   "outputs": [],
   "source": [
    "full_marks.append(3)"
   ]
  },
  {
   "cell_type": "code",
   "execution_count": 26,
   "id": "2cc48238",
   "metadata": {},
   "outputs": [],
   "source": [
    "full_marks.append(2)"
   ]
  },
  {
   "cell_type": "code",
   "execution_count": 27,
   "id": "3d464fa0",
   "metadata": {},
   "outputs": [],
   "source": [
    "full_marks.append(2)"
   ]
  },
  {
   "cell_type": "code",
   "execution_count": 28,
   "id": "83a0d5ab",
   "metadata": {},
   "outputs": [
    {
     "data": {
      "text/plain": [
       "[3, 3, 3, 2, 2, 3, 3, 2, 2]"
      ]
     },
     "execution_count": 28,
     "metadata": {},
     "output_type": "execute_result"
    }
   ],
   "source": [
    "full_marks"
   ]
  },
  {
   "cell_type": "code",
   "execution_count": 29,
   "id": "2677288b",
   "metadata": {},
   "outputs": [],
   "source": [
    "full_marks.append(2)"
   ]
  },
  {
   "cell_type": "code",
   "execution_count": 30,
   "id": "396dc8ba",
   "metadata": {},
   "outputs": [],
   "source": [
    "full_marks.append(2)"
   ]
  },
  {
   "cell_type": "code",
   "execution_count": 31,
   "id": "4dbfeac7",
   "metadata": {},
   "outputs": [
    {
     "data": {
      "text/plain": [
       "[3, 3, 3, 2, 2, 3, 3, 2, 2, 2, 2]"
      ]
     },
     "execution_count": 31,
     "metadata": {},
     "output_type": "execute_result"
    }
   ],
   "source": [
    "full_marks"
   ]
  },
  {
   "cell_type": "code",
   "execution_count": 32,
   "id": "4d8ba491",
   "metadata": {},
   "outputs": [],
   "source": [
    "df1.loc[df1.EssaySet == 10, 'full_marks'] = full_marks[9]\n",
    "df1.loc[df1.EssaySet == 9, 'full_marks'] = full_marks[8]\n",
    "df1.loc[df1.EssaySet == 8, 'full_marks'] = full_marks[7]\n",
    "df1.loc[df1.EssaySet == 7, 'full_marks'] = full_marks[6]\n",
    "df1.loc[df1.EssaySet == 6, 'full_marks'] = full_marks[5]\n",
    "df1.loc[df1.EssaySet == 5, 'full_marks'] = full_marks[4]\n",
    "df1.loc[df1.EssaySet == 4, 'full_marks'] = full_marks[3]\n",
    "df1.loc[df1.EssaySet == 3, 'full_marks'] = full_marks[2]\n",
    "df1.loc[df1.EssaySet == 2, 'full_marks'] = full_marks[1]\n",
    "df1.loc[df1.EssaySet == 1, 'full_marks'] = full_marks[0]"
   ]
  },
  {
   "cell_type": "code",
   "execution_count": 33,
   "id": "474d15ca",
   "metadata": {},
   "outputs": [
    {
     "data": {
      "text/html": [
       "<div>\n",
       "<style scoped>\n",
       "    .dataframe tbody tr th:only-of-type {\n",
       "        vertical-align: middle;\n",
       "    }\n",
       "\n",
       "    .dataframe tbody tr th {\n",
       "        vertical-align: top;\n",
       "    }\n",
       "\n",
       "    .dataframe thead th {\n",
       "        text-align: right;\n",
       "    }\n",
       "</style>\n",
       "<table border=\"1\" class=\"dataframe\">\n",
       "  <thead>\n",
       "    <tr style=\"text-align: right;\">\n",
       "      <th></th>\n",
       "      <th>Id</th>\n",
       "      <th>EssaySet</th>\n",
       "      <th>Score1</th>\n",
       "      <th>Score2</th>\n",
       "      <th>EssayText</th>\n",
       "      <th>questions</th>\n",
       "      <th>full_marks</th>\n",
       "    </tr>\n",
       "  </thead>\n",
       "  <tbody>\n",
       "    <tr>\n",
       "      <th>0</th>\n",
       "      <td>1</td>\n",
       "      <td>1</td>\n",
       "      <td>1</td>\n",
       "      <td>1</td>\n",
       "      <td>Some additional information that we would need...</td>\n",
       "      <td>What are the additional pieces of information ...</td>\n",
       "      <td>3.0</td>\n",
       "    </tr>\n",
       "    <tr>\n",
       "      <th>1</th>\n",
       "      <td>2</td>\n",
       "      <td>1</td>\n",
       "      <td>1</td>\n",
       "      <td>1</td>\n",
       "      <td>After reading the expirement, I realized that ...</td>\n",
       "      <td>What are the additional pieces of information ...</td>\n",
       "      <td>3.0</td>\n",
       "    </tr>\n",
       "    <tr>\n",
       "      <th>2</th>\n",
       "      <td>3</td>\n",
       "      <td>1</td>\n",
       "      <td>1</td>\n",
       "      <td>1</td>\n",
       "      <td>What you need is more trials, a control set up...</td>\n",
       "      <td>What are the additional pieces of information ...</td>\n",
       "      <td>3.0</td>\n",
       "    </tr>\n",
       "    <tr>\n",
       "      <th>3</th>\n",
       "      <td>4</td>\n",
       "      <td>1</td>\n",
       "      <td>0</td>\n",
       "      <td>0</td>\n",
       "      <td>The student should list what rock is better an...</td>\n",
       "      <td>What are the additional pieces of information ...</td>\n",
       "      <td>3.0</td>\n",
       "    </tr>\n",
       "    <tr>\n",
       "      <th>4</th>\n",
       "      <td>5</td>\n",
       "      <td>1</td>\n",
       "      <td>2</td>\n",
       "      <td>2</td>\n",
       "      <td>For the students to be able to make a replicat...</td>\n",
       "      <td>What are the additional pieces of information ...</td>\n",
       "      <td>3.0</td>\n",
       "    </tr>\n",
       "  </tbody>\n",
       "</table>\n",
       "</div>"
      ],
      "text/plain": [
       "   Id  EssaySet  Score1  Score2  \\\n",
       "0   1         1       1       1   \n",
       "1   2         1       1       1   \n",
       "2   3         1       1       1   \n",
       "3   4         1       0       0   \n",
       "4   5         1       2       2   \n",
       "\n",
       "                                           EssayText  \\\n",
       "0  Some additional information that we would need...   \n",
       "1  After reading the expirement, I realized that ...   \n",
       "2  What you need is more trials, a control set up...   \n",
       "3  The student should list what rock is better an...   \n",
       "4  For the students to be able to make a replicat...   \n",
       "\n",
       "                                           questions  full_marks  \n",
       "0  What are the additional pieces of information ...         3.0  \n",
       "1  What are the additional pieces of information ...         3.0  \n",
       "2  What are the additional pieces of information ...         3.0  \n",
       "3  What are the additional pieces of information ...         3.0  \n",
       "4  What are the additional pieces of information ...         3.0  "
      ]
     },
     "execution_count": 33,
     "metadata": {},
     "output_type": "execute_result"
    }
   ],
   "source": [
    "df1.head()"
   ]
  },
  {
   "cell_type": "code",
   "execution_count": 34,
   "id": "35b36d09",
   "metadata": {},
   "outputs": [
    {
     "data": {
      "text/html": [
       "<div>\n",
       "<style scoped>\n",
       "    .dataframe tbody tr th:only-of-type {\n",
       "        vertical-align: middle;\n",
       "    }\n",
       "\n",
       "    .dataframe tbody tr th {\n",
       "        vertical-align: top;\n",
       "    }\n",
       "\n",
       "    .dataframe thead th {\n",
       "        text-align: right;\n",
       "    }\n",
       "</style>\n",
       "<table border=\"1\" class=\"dataframe\">\n",
       "  <thead>\n",
       "    <tr style=\"text-align: right;\">\n",
       "      <th></th>\n",
       "      <th>Id</th>\n",
       "      <th>EssaySet</th>\n",
       "      <th>Score1</th>\n",
       "      <th>Score2</th>\n",
       "      <th>EssayText</th>\n",
       "      <th>questions</th>\n",
       "      <th>full_marks</th>\n",
       "    </tr>\n",
       "  </thead>\n",
       "  <tbody>\n",
       "    <tr>\n",
       "      <th>17202</th>\n",
       "      <td>27584</td>\n",
       "      <td>10</td>\n",
       "      <td>1</td>\n",
       "      <td>1</td>\n",
       "      <td>white :: white becuase if you live in a hot pl...</td>\n",
       "      <td>Brandi and Jerry were designing a doghouse.Use...</td>\n",
       "      <td>2.0</td>\n",
       "    </tr>\n",
       "    <tr>\n",
       "      <th>17203</th>\n",
       "      <td>27585</td>\n",
       "      <td>10</td>\n",
       "      <td>1</td>\n",
       "      <td>1</td>\n",
       "      <td>light gray :: This color will affect the dogho...</td>\n",
       "      <td>Brandi and Jerry were designing a doghouse.Use...</td>\n",
       "      <td>2.0</td>\n",
       "    </tr>\n",
       "    <tr>\n",
       "      <th>17204</th>\n",
       "      <td>27586</td>\n",
       "      <td>10</td>\n",
       "      <td>1</td>\n",
       "      <td>1</td>\n",
       "      <td>light gray :: i think light gray would work th...</td>\n",
       "      <td>Brandi and Jerry were designing a doghouse.Use...</td>\n",
       "      <td>2.0</td>\n",
       "    </tr>\n",
       "    <tr>\n",
       "      <th>17205</th>\n",
       "      <td>27587</td>\n",
       "      <td>10</td>\n",
       "      <td>1</td>\n",
       "      <td>0</td>\n",
       "      <td>dark gray ::  if they painted the doghouse dar...</td>\n",
       "      <td>Brandi and Jerry were designing a doghouse.Use...</td>\n",
       "      <td>2.0</td>\n",
       "    </tr>\n",
       "    <tr>\n",
       "      <th>17206</th>\n",
       "      <td>27588</td>\n",
       "      <td>10</td>\n",
       "      <td>0</td>\n",
       "      <td>1</td>\n",
       "      <td>white :: the black would affect the doghouse b...</td>\n",
       "      <td>Brandi and Jerry were designing a doghouse.Use...</td>\n",
       "      <td>2.0</td>\n",
       "    </tr>\n",
       "  </tbody>\n",
       "</table>\n",
       "</div>"
      ],
      "text/plain": [
       "          Id  EssaySet  Score1  Score2  \\\n",
       "17202  27584        10       1       1   \n",
       "17203  27585        10       1       1   \n",
       "17204  27586        10       1       1   \n",
       "17205  27587        10       1       0   \n",
       "17206  27588        10       0       1   \n",
       "\n",
       "                                               EssayText  \\\n",
       "17202  white :: white becuase if you live in a hot pl...   \n",
       "17203  light gray :: This color will affect the dogho...   \n",
       "17204  light gray :: i think light gray would work th...   \n",
       "17205  dark gray ::  if they painted the doghouse dar...   \n",
       "17206  white :: the black would affect the doghouse b...   \n",
       "\n",
       "                                               questions  full_marks  \n",
       "17202  Brandi and Jerry were designing a doghouse.Use...         2.0  \n",
       "17203  Brandi and Jerry were designing a doghouse.Use...         2.0  \n",
       "17204  Brandi and Jerry were designing a doghouse.Use...         2.0  \n",
       "17205  Brandi and Jerry were designing a doghouse.Use...         2.0  \n",
       "17206  Brandi and Jerry were designing a doghouse.Use...         2.0  "
      ]
     },
     "execution_count": 34,
     "metadata": {},
     "output_type": "execute_result"
    }
   ],
   "source": [
    "df1.tail()"
   ]
  },
  {
   "cell_type": "code",
   "execution_count": 35,
   "id": "76c4824d",
   "metadata": {},
   "outputs": [],
   "source": [
    "import pandas as pd\n",
    "import openpyxl\n",
    "import xlsxwriter"
   ]
  },
  {
   "cell_type": "code",
   "execution_count": null,
   "id": "7905f724",
   "metadata": {},
   "outputs": [],
   "source": [
    "DataFrame.to_csv()"
   ]
  },
  {
   "cell_type": "code",
   "execution_count": 36,
   "id": "16650d8e",
   "metadata": {},
   "outputs": [],
   "source": [
    "new_data = df1.to_csv('final_dataset.csv', index = True)"
   ]
  },
  {
   "cell_type": "code",
   "execution_count": null,
   "id": "94c01db4",
   "metadata": {},
   "outputs": [],
   "source": []
  }
 ],
 "metadata": {
  "kernelspec": {
   "display_name": "Python 3",
   "language": "python",
   "name": "python3"
  },
  "language_info": {
   "codemirror_mode": {
    "name": "ipython",
    "version": 3
   },
   "file_extension": ".py",
   "mimetype": "text/x-python",
   "name": "python",
   "nbconvert_exporter": "python",
   "pygments_lexer": "ipython3",
   "version": "3.8.10"
  }
 },
 "nbformat": 4,
 "nbformat_minor": 5
}
