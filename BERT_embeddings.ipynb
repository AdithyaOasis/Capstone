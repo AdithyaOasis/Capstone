{
 "cells": [
  {
   "cell_type": "code",
   "execution_count": 1,
   "source": [
    "! pip install pytorch-pretrained-bert\r\n",
    "! pip install logging"
   ],
   "outputs": [
    {
     "output_type": "stream",
     "name": "stdout",
     "text": [
      "Requirement already satisfied: pytorch-pretrained-bert in d:\\adi\\work\\clg\\capstone\\capstone\\venv\\lib\\site-packages (0.6.2)\n",
      "Requirement already satisfied: torch>=0.4.1 in d:\\adi\\work\\clg\\capstone\\capstone\\venv\\lib\\site-packages (from pytorch-pretrained-bert) (1.8.1+cpu)\n",
      "Requirement already satisfied: numpy in d:\\adi\\work\\clg\\capstone\\capstone\\venv\\lib\\site-packages (from pytorch-pretrained-bert) (1.14.6)\n",
      "Requirement already satisfied: tqdm in d:\\adi\\work\\clg\\capstone\\capstone\\venv\\lib\\site-packages (from pytorch-pretrained-bert) (4.61.1)\n",
      "Requirement already satisfied: requests in d:\\adi\\work\\clg\\capstone\\capstone\\venv\\lib\\site-packages (from pytorch-pretrained-bert) (2.25.1)\n",
      "Requirement already satisfied: boto3 in d:\\adi\\work\\clg\\capstone\\capstone\\venv\\lib\\site-packages (from pytorch-pretrained-bert) (1.17.97)\n",
      "Requirement already satisfied: regex in d:\\adi\\work\\clg\\capstone\\capstone\\venv\\lib\\site-packages (from pytorch-pretrained-bert) (2021.4.4)\n",
      "Requirement already satisfied: typing-extensions in d:\\adi\\work\\clg\\capstone\\capstone\\venv\\lib\\site-packages (from torch>=0.4.1->pytorch-pretrained-bert) (3.7.4.3)\n",
      "Requirement already satisfied: botocore<1.21.0,>=1.20.97 in d:\\adi\\work\\clg\\capstone\\capstone\\venv\\lib\\site-packages (from boto3->pytorch-pretrained-bert) (1.20.97)\n",
      "Requirement already satisfied: jmespath<1.0.0,>=0.7.1 in d:\\adi\\work\\clg\\capstone\\capstone\\venv\\lib\\site-packages (from boto3->pytorch-pretrained-bert) (0.10.0)\n",
      "Requirement already satisfied: s3transfer<0.5.0,>=0.4.0 in d:\\adi\\work\\clg\\capstone\\capstone\\venv\\lib\\site-packages (from boto3->pytorch-pretrained-bert) (0.4.2)\n",
      "Requirement already satisfied: urllib3<1.27,>=1.25.4 in d:\\adi\\work\\clg\\capstone\\capstone\\venv\\lib\\site-packages (from botocore<1.21.0,>=1.20.97->boto3->pytorch-pretrained-bert) (1.26.5)\n",
      "Requirement already satisfied: python-dateutil<3.0.0,>=2.1 in d:\\adi\\work\\clg\\capstone\\capstone\\venv\\lib\\site-packages (from botocore<1.21.0,>=1.20.97->boto3->pytorch-pretrained-bert) (2.8.1)\n",
      "Requirement already satisfied: six>=1.5 in d:\\adi\\work\\clg\\capstone\\capstone\\venv\\lib\\site-packages (from python-dateutil<3.0.0,>=2.1->botocore<1.21.0,>=1.20.97->boto3->pytorch-pretrained-bert) (1.15.0)\n",
      "Requirement already satisfied: idna<3,>=2.5 in d:\\adi\\work\\clg\\capstone\\capstone\\venv\\lib\\site-packages (from requests->pytorch-pretrained-bert) (2.6)\n",
      "Requirement already satisfied: certifi>=2017.4.17 in d:\\adi\\work\\clg\\capstone\\capstone\\venv\\lib\\site-packages (from requests->pytorch-pretrained-bert) (2020.12.5)\n",
      "Requirement already satisfied: chardet<5,>=3.0.2 in d:\\adi\\work\\clg\\capstone\\capstone\\venv\\lib\\site-packages (from requests->pytorch-pretrained-bert) (3.0.4)\n",
      "Collecting logging    ERROR: Command errored out with exit status 1:\n",
      "     command: 'd:\\adi\\work\\clg\\capstone\\capstone\\venv\\scripts\\python.exe' -c 'import io, os, sys, setuptools, tokenize; sys.argv[0] = '\"'\"'C:\\\\Users\\\\adith\\\\AppData\\\\Local\\\\Temp\\\\pip-install-xxvn6ssr\\\\logging_97fc9a54fbe04b75bc8a877d62614080\\\\setup.py'\"'\"'; __file__='\"'\"'C:\\\\Users\\\\adith\\\\AppData\\\\Local\\\\Temp\\\\pip-install-xxvn6ssr\\\\logging_97fc9a54fbe04b75bc8a877d62614080\\\\setup.py'\"'\"';f = getattr(tokenize, '\"'\"'open'\"'\"', open)(__file__) if os.path.exists(__file__) else io.StringIO('\"'\"'from setuptools import setup; setup()'\"'\"');code = f.read().replace('\"'\"'\\r\\n'\"'\"', '\"'\"'\\n'\"'\"');f.close();exec(compile(code, __file__, '\"'\"'exec'\"'\"'))' egg_info --egg-base 'C:\\Users\\adith\\AppData\\Local\\Temp\\pip-pip-egg-info-wamx9dli'\n",
      "         cwd: C:\\Users\\adith\\AppData\\Local\\Temp\\pip-install-xxvn6ssr\\logging_97fc9a54fbe04b75bc8a877d62614080\\\n",
      "    Complete output (48 lines):\n",
      "    running egg_info\n",
      "    creating C:\\Users\\adith\\AppData\\Local\\Temp\\pip-pip-egg-info-wamx9dli\\logging.egg-info\n",
      "    writing C:\\Users\\adith\\AppData\\Local\\Temp\\pip-pip-egg-info-wamx9dli\\logging.egg-info\\PKG-INFO\n",
      "    writing dependency_links to C:\\Users\\adith\\AppData\\Local\\Temp\\pip-pip-egg-info-wamx9dli\\logging.egg-info\\dependency_links.txt\n",
      "    writing top-level names to C:\\Users\\adith\\AppData\\Local\\Temp\\pip-pip-egg-info-wamx9dli\\logging.egg-info\\top_level.txt\n",
      "    writing manifest file 'C:\\Users\\adith\\AppData\\Local\\Temp\\pip-pip-egg-info-wamx9dli\\logging.egg-info\\SOURCES.txt'\n",
      "    Traceback (most recent call last):\n",
      "      File \"<string>\", line 1, in <module>\n",
      "      File \"C:\\Users\\adith\\AppData\\Local\\Temp\\pip-install-xxvn6ssr\\logging_97fc9a54fbe04b75bc8a877d62614080\\setup.py\", line 13, in <module>\n",
      "        packages = [\"logging\"],\n",
      "      File \"c:\\users\\adith\\appdata\\local\\programs\\python\\python37\\lib\\distutils\\core.py\", line 148, in setup\n",
      "        dist.run_commands()\n",
      "      File \"c:\\users\\adith\\appdata\\local\\programs\\python\\python37\\lib\\distutils\\dist.py\", line 966, in run_commands\n",
      "        self.run_command(cmd)\n",
      "      File \"c:\\users\\adith\\appdata\\local\\programs\\python\\python37\\lib\\distutils\\dist.py\", line 985, in run_command\n",
      "        cmd_obj.run()\n",
      "      File \"d:\\adi\\work\\clg\\capstone\\capstone\\venv\\lib\\site-packages\\setuptools\\command\\egg_info.py\", line 297, in run\n",
      "        self.find_sources()\n",
      "      File \"d:\\adi\\work\\clg\\capstone\\capstone\\venv\\lib\\site-packages\\setuptools\\command\\egg_info.py\", line 304, in find_sources\n",
      "        mm.run()\n",
      "      File \"d:\\adi\\work\\clg\\capstone\\capstone\\venv\\lib\\site-packages\\setuptools\\command\\egg_info.py\", line 535, in run\n",
      "        self.add_defaults()\n",
      "      File \"d:\\adi\\work\\clg\\capstone\\capstone\\venv\\lib\\site-packages\\setuptools\\command\\egg_info.py\", line 571, in add_defaults\n",
      "        sdist.add_defaults(self)\n",
      "      File \"c:\\users\\adith\\appdata\\local\\programs\\python\\python37\\lib\\distutils\\command\\sdist.py\", line 226, in add_defaults\n",
      "        self._add_defaults_python()\n",
      "      File \"d:\\adi\\work\\clg\\capstone\\capstone\\venv\\lib\\site-packages\\setuptools\\command\\sdist.py\", line 135, in _add_defaults_python\n",
      "        build_py = self.get_finalized_command('build_py')\n",
      "      File \"c:\\users\\adith\\appdata\\local\\programs\\python\\python37\\lib\\distutils\\cmd.py\", line 298, in get_finalized_command\n",
      "        cmd_obj = self.distribution.get_command_obj(command, create)\n",
      "      File \"c:\\users\\adith\\appdata\\local\\programs\\python\\python37\\lib\\distutils\\dist.py\", line 857, in get_command_obj\n",
      "        klass = self.get_command_class(command)\n",
      "      File \"d:\\adi\\work\\clg\\capstone\\capstone\\venv\\lib\\site-packages\\setuptools\\dist.py\", line 753, in get_command_class\n",
      "        self.cmdclass[command] = cmdclass = ep.load()\n",
      "      File \"d:\\adi\\work\\clg\\capstone\\capstone\\venv\\lib\\site-packages\\pkg_resources\\__init__.py\", line 2446, in load\n",
      "        return self.resolve()\n",
      "      File \"d:\\adi\\work\\clg\\capstone\\capstone\\venv\\lib\\site-packages\\pkg_resources\\__init__.py\", line 2452, in resolve\n",
      "        module = __import__(self.module_name, fromlist=['__name__'], level=0)\n",
      "      File \"d:\\adi\\work\\clg\\capstone\\capstone\\venv\\lib\\site-packages\\setuptools\\command\\build_py.py\", line 15, in <module>\n",
      "        from setuptools.lib2to3_ex import Mixin2to3\n",
      "      File \"d:\\adi\\work\\clg\\capstone\\capstone\\venv\\lib\\site-packages\\setuptools\\lib2to3_ex.py\", line 12, in <module>\n",
      "        from lib2to3.refactor import RefactoringTool, get_fixers_from_package\n",
      "      File \"c:\\users\\adith\\appdata\\local\\programs\\python\\python37\\lib\\lib2to3\\refactor.py\", line 19, in <module>\n",
      "        import logging\n",
      "      File \"C:\\Users\\adith\\AppData\\Local\\Temp\\pip-install-xxvn6ssr\\logging_97fc9a54fbe04b75bc8a877d62614080\\logging\\__init__.py\", line 618\n",
      "\n",
      "  Downloading logging-0.4.9.6.tar.gz (96 kB)\n",
      "        raise NotImplementedError, 'emit must be implemented '\\\n",
      "                                 ^\n",
      "    SyntaxError: invalid syntax\n",
      "    ----------------------------------------\n",
      "WARNING: Discarding https://files.pythonhosted.org/packages/93/4b/979db9e44be09f71e85c9c8cfc42f258adfb7d93ce01deed2788b2948919/logging-0.4.9.6.tar.gz#sha256=26f6b50773f085042d301085bd1bf5d9f3735704db9f37c1ce6d8b85c38f2417 (from https://pypi.org/simple/logging/). Command errored out with exit status 1: python setup.py egg_info Check the logs for full command output.\n",
      "ERROR: Could not find a version that satisfies the requirement logging (from versions: 0.4.9.6)\n",
      "ERROR: No matching distribution found for logging\n"
     ]
    }
   ],
   "metadata": {
    "colab": {
     "base_uri": "https://localhost:8080/"
    },
    "id": "ijd3EJUMGyM9",
    "outputId": "510e598e-af5d-4734-fc28-698ba488d609"
   }
  },
  {
   "cell_type": "code",
   "execution_count": 1,
   "source": [
    "import torch\r\n",
    "from pytorch_pretrained_bert import BertTokenizer, BertModel, BertForMaskedLM\r\n",
    " \r\n",
    "# OPTIONAL: if you want to have more information on what's happening, activate the logger as follows\r\n",
    "import logging\r\n",
    "#logging.basicConfig(level=logging.INFO)\r\n",
    " \r\n",
    "import matplotlib.pyplot as plt\r\n",
    "# % matplotlib inline\r\n",
    " \r\n",
    "# Load pre-trained model tokenizer (vocabulary)\r\n",
    "tokenizer = BertTokenizer.from_pretrained('bert-base-uncased')"
   ],
   "outputs": [],
   "metadata": {
    "ExecuteTime": {
     "end_time": "2021-08-14T18:22:40.850399Z",
     "start_time": "2021-08-14T18:22:37.792046Z"
    },
    "id": "UirIPkiUOAuR"
   }
  },
  {
   "cell_type": "code",
   "execution_count": 5,
   "source": [
    "def GetBertEmbeddings(sentence):\r\n",
    "  marked_text = \"[CLS] \" + sentence + \" [SEP]\"\r\n",
    "  tokenized_text = tokenizer.tokenize(marked_text)\r\n",
    "  indexed_tokens = tokenizer.convert_tokens_to_ids(tokenized_text)\r\n",
    "  segments_ids = [1] * len(tokenized_text)\r\n",
    "  # Convert inputs to PyTorch tensors\r\n",
    "  tokens_tensor = torch.tensor([indexed_tokens])\r\n",
    "  segments_tensors = torch.tensor([segments_ids])\r\n",
    " \r\n",
    "# Load pre-trained model (weights)\r\n",
    "  model = BertModel.from_pretrained('bert-base-uncased',output_hidden_states = True,)\r\n",
    " \r\n",
    "# Put the model in \"evaluation\" mode, meaning feed-forward operation.\r\n",
    "  model.eval()\r\n",
    "  # Predict hidden states features for each layer\r\n",
    "  with torch.no_grad():\r\n",
    "    encoded_layers, _ = model(tokens_tensor, segments_tensors)\r\n",
    "  # Convert the hidden state embeddings into single token vectors\r\n",
    " \r\n",
    "# Holds the list of 12 layer embeddings for each token\r\n",
    "# Will have the shape: [# tokens, # layers, # features]\r\n",
    "  token_embeddings = [] \r\n",
    " \r\n",
    "# For each token in the sentence...\r\n",
    "  for token_i in range(len(tokenized_text)):\r\n",
    "  \r\n",
    "  # Holds 12 layers of hidden states for each token \r\n",
    "    hidden_layers = [] \r\n",
    "  \r\n",
    "  # For each of the 12 layers...\r\n",
    "    for layer_i in range(len(encoded_layers)):\r\n",
    "    \r\n",
    "    # Lookup the vector for `token_i` in `layer_i`\r\n",
    "      vec = encoded_layers[layer_i][batch_i][token_i]\r\n",
    "    \r\n",
    "      hidden_layers.append(vec)\r\n",
    "    \r\n",
    "      token_embeddings.append(hidden_layers)\r\n",
    "    \r\n",
    "  # Predict hidden states features for each layer\r\n",
    "  summed_last_4_layers = [torch.sum(torch.stack(layer)[-4:], 0) for layer in token_embeddings] # [number_of_tokens, 768]\r\n",
    "  return summed_last_4_layers\r\n",
    "\r\n",
    " \r\n",
    "\r\n",
    "  \r\n"
   ],
   "outputs": [],
   "metadata": {
    "ExecuteTime": {
     "end_time": "2021-08-14T18:23:55.692878Z",
     "start_time": "2021-08-14T18:23:55.668872Z"
    },
    "id": "lFOvVkRhON8O"
   }
  },
  {
   "cell_type": "code",
   "execution_count": 6,
   "source": [
    "GetBertEmbeddings(\"I am a cat\")"
   ],
   "outputs": [
    {
     "output_type": "stream",
     "name": "stderr",
     "text": [
      " 73%|███████████████████████████████████████████▎               | 299446272/407873900 [8:30:41<01:19, 1372228.56B/s]Model name 'bert-base-uncased' was not found in model name list (bert-base-uncased, bert-large-uncased, bert-base-cased, bert-large-cased, bert-base-multilingual-uncased, bert-base-multilingual-cased, bert-base-chinese). We assumed 'https://s3.amazonaws.com/models.huggingface.co/bert/bert-base-uncased.tar.gz' was a path or url but couldn't find any file associated to this path or url.\n"
     ]
    },
    {
     "output_type": "error",
     "ename": "AttributeError",
     "evalue": "'NoneType' object has no attribute 'eval'",
     "traceback": [
      "\u001b[1;31m---------------------------------------------------------------------------\u001b[0m",
      "\u001b[1;31mAttributeError\u001b[0m                            Traceback (most recent call last)",
      "\u001b[1;32m<ipython-input-6-16e0c0e34d69>\u001b[0m in \u001b[0;36m<module>\u001b[1;34m\u001b[0m\n\u001b[1;32m----> 1\u001b[1;33m \u001b[0mGetBertEmbeddings\u001b[0m\u001b[1;33m(\u001b[0m\u001b[1;34m\"I am a cat\"\u001b[0m\u001b[1;33m)\u001b[0m\u001b[1;33m\u001b[0m\u001b[1;33m\u001b[0m\u001b[0m\n\u001b[0m",
      "\u001b[1;32m<ipython-input-5-070ef6da903f>\u001b[0m in \u001b[0;36mGetBertEmbeddings\u001b[1;34m(sentence)\u001b[0m\n\u001b[0;32m     12\u001b[0m \u001b[1;33m\u001b[0m\u001b[0m\n\u001b[0;32m     13\u001b[0m \u001b[1;31m# Put the model in \"evaluation\" mode, meaning feed-forward operation.\u001b[0m\u001b[1;33m\u001b[0m\u001b[1;33m\u001b[0m\u001b[1;33m\u001b[0m\u001b[0m\n\u001b[1;32m---> 14\u001b[1;33m   \u001b[0mmodel\u001b[0m\u001b[1;33m.\u001b[0m\u001b[0meval\u001b[0m\u001b[1;33m(\u001b[0m\u001b[1;33m)\u001b[0m\u001b[1;33m\u001b[0m\u001b[1;33m\u001b[0m\u001b[0m\n\u001b[0m\u001b[0;32m     15\u001b[0m   \u001b[1;31m# Predict hidden states features for each layer\u001b[0m\u001b[1;33m\u001b[0m\u001b[1;33m\u001b[0m\u001b[1;33m\u001b[0m\u001b[0m\n\u001b[0;32m     16\u001b[0m   \u001b[1;32mwith\u001b[0m \u001b[0mtorch\u001b[0m\u001b[1;33m.\u001b[0m\u001b[0mno_grad\u001b[0m\u001b[1;33m(\u001b[0m\u001b[1;33m)\u001b[0m\u001b[1;33m:\u001b[0m\u001b[1;33m\u001b[0m\u001b[1;33m\u001b[0m\u001b[0m\n",
      "\u001b[1;31mAttributeError\u001b[0m: 'NoneType' object has no attribute 'eval'"
     ]
    }
   ],
   "metadata": {
    "ExecuteTime": {
     "end_time": "2021-08-15T02:54:41.438182Z",
     "start_time": "2021-08-14T18:23:56.772685Z"
    },
    "colab": {
     "base_uri": "https://localhost:8080/"
    },
    "id": "09NR-u2nOS6E",
    "outputId": "ac4a8322-0b38-4da9-96d2-42fed95a9da1"
   }
  },
  {
   "cell_type": "code",
   "execution_count": null,
   "source": [],
   "outputs": [],
   "metadata": {}
  }
 ],
 "metadata": {
  "colab": {
   "name": "BERT_embeddings.ipynb",
   "provenance": []
  },
  "interpreter": {
   "hash": "d56d92bfe18e338fca9330cc11fbdc9ce2394a956871bac79070cba5d437aed6"
  },
  "kernelspec": {
   "name": "python3",
   "display_name": "Python 3.7.6 64-bit ('venv': venv)"
  },
  "language_info": {
   "codemirror_mode": {
    "name": "ipython",
    "version": 3
   },
   "file_extension": ".py",
   "mimetype": "text/x-python",
   "name": "python",
   "nbconvert_exporter": "python",
   "pygments_lexer": "ipython3",
   "version": "3.7.6"
  },
  "toc": {
   "base_numbering": 1,
   "nav_menu": {},
   "number_sections": true,
   "sideBar": true,
   "skip_h1_title": false,
   "title_cell": "Table of Contents",
   "title_sidebar": "Contents",
   "toc_cell": false,
   "toc_position": {},
   "toc_section_display": true,
   "toc_window_display": false
  }
 },
 "nbformat": 4,
 "nbformat_minor": 1
}