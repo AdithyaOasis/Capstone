{
 "cells": [
  {
   "cell_type": "code",
   "execution_count": 2,
   "metadata": {
    "ExecuteTime": {
     "end_time": "2021-08-18T04:32:01.780995Z",
     "start_time": "2021-08-18T04:32:00.136889Z"
    }
   },
   "outputs": [],
   "source": [
    "import torch\n",
    "import torch.nn.functional as F"
   ]
  },
  {
   "cell_type": "code",
   "execution_count": 3,
   "metadata": {
    "ExecuteTime": {
     "end_time": "2021-08-18T04:32:03.270002Z",
     "start_time": "2021-08-18T04:32:03.235000Z"
    }
   },
   "outputs": [
    {
     "data": {
      "text/plain": [
       "tensor([[[0.6493, 0.6608, 0.9028,  ..., 0.1946, 0.6678, 0.6689],\n",
       "         [0.1955, 0.0763, 0.2471,  ..., 0.7317, 0.6310, 0.0288],\n",
       "         [0.0218, 0.5576, 0.7299,  ..., 0.8575, 0.7537, 0.1901]]])"
      ]
     },
     "execution_count": 3,
     "metadata": {},
     "output_type": "execute_result"
    }
   ],
   "source": [
    "t = torch.rand(1,3,768)\n",
    "t"
   ]
  },
  {
   "cell_type": "code",
   "execution_count": 4,
   "metadata": {
    "ExecuteTime": {
     "end_time": "2021-08-18T04:32:08.640880Z",
     "start_time": "2021-08-18T04:32:08.451879Z"
    }
   },
   "outputs": [],
   "source": [
    "t = t.flatten(start_dim=1, end_dim=2)"
   ]
  },
  {
   "cell_type": "code",
   "execution_count": 4,
   "metadata": {},
   "outputs": [
    {
     "data": {
      "text/plain": [
       "tensor([[0.2490, 0.8972, 0.4271,  ..., 0.3815, 0.2262, 0.1916]])"
      ]
     },
     "execution_count": 4,
     "metadata": {},
     "output_type": "execute_result"
    }
   ],
   "source": [
    "t"
   ]
  },
  {
   "cell_type": "code",
   "execution_count": 5,
   "metadata": {},
   "outputs": [
    {
     "data": {
      "text/plain": [
       "tensor([0.2490, 0.8972, 0.4271,  ..., 0.3815, 0.2262, 0.1916])"
      ]
     },
     "execution_count": 5,
     "metadata": {},
     "output_type": "execute_result"
    }
   ],
   "source": [
    "t[0]"
   ]
  },
  {
   "cell_type": "code",
   "execution_count": 6,
   "metadata": {},
   "outputs": [],
   "source": [
    "#t.add()"
   ]
  },
  {
   "cell_type": "code",
   "execution_count": 7,
   "metadata": {},
   "outputs": [
    {
     "data": {
      "text/plain": [
       "2304"
      ]
     },
     "execution_count": 7,
     "metadata": {},
     "output_type": "execute_result"
    }
   ],
   "source": [
    "t.shape[1]"
   ]
  },
  {
   "cell_type": "code",
   "execution_count": 5,
   "metadata": {
    "ExecuteTime": {
     "end_time": "2021-08-18T04:32:13.770560Z",
     "start_time": "2021-08-18T04:32:13.751563Z"
    }
   },
   "outputs": [],
   "source": [
    "s = torch.zeros(1,76800-t.shape[1])"
   ]
  },
  {
   "cell_type": "code",
   "execution_count": 6,
   "metadata": {
    "ExecuteTime": {
     "end_time": "2021-08-18T04:32:14.008556Z",
     "start_time": "2021-08-18T04:32:13.955561Z"
    }
   },
   "outputs": [],
   "source": [
    "p = torch.cat((t,s),dim=1)"
   ]
  },
  {
   "cell_type": "code",
   "execution_count": 7,
   "metadata": {
    "ExecuteTime": {
     "end_time": "2021-08-18T04:32:16.789604Z",
     "start_time": "2021-08-18T04:32:16.165615Z"
    }
   },
   "outputs": [],
   "source": [
    "import pandas as pd"
   ]
  },
  {
   "cell_type": "code",
   "execution_count": 14,
   "metadata": {
    "ExecuteTime": {
     "end_time": "2021-08-18T04:35:09.610408Z",
     "start_time": "2021-08-18T04:35:09.551408Z"
    }
   },
   "outputs": [],
   "source": [
    "new_t = torch.rand(3,768001)"
   ]
  },
  {
   "cell_type": "code",
   "execution_count": 15,
   "metadata": {
    "ExecuteTime": {
     "end_time": "2021-08-18T04:35:16.900420Z",
     "start_time": "2021-08-18T04:35:16.889417Z"
    }
   },
   "outputs": [],
   "source": [
    "df = pd.DataFrame(new_t.numpy())"
   ]
  },
  {
   "cell_type": "code",
   "execution_count": 13,
   "metadata": {
    "ExecuteTime": {
     "end_time": "2021-08-18T04:34:53.020361Z",
     "start_time": "2021-08-18T04:34:53.001356Z"
    }
   },
   "outputs": [
    {
     "data": {
      "text/plain": [
       "tensor([[0.5827, 0.6420, 0.6486,  ..., 0.2555, 0.0691, 0.5853],\n",
       "        [0.2514, 0.6689, 0.8804,  ..., 0.6812, 0.3419, 0.8391],\n",
       "        [0.4334, 0.0039, 0.5057,  ..., 0.4188, 0.2633, 0.5829]])"
      ]
     },
     "execution_count": 13,
     "metadata": {},
     "output_type": "execute_result"
    }
   ],
   "source": [
    "new_t"
   ]
  },
  {
   "cell_type": "code",
   "execution_count": 16,
   "metadata": {
    "ExecuteTime": {
     "end_time": "2021-08-18T04:35:17.942047Z",
     "start_time": "2021-08-18T04:35:17.842045Z"
    }
   },
   "outputs": [
    {
     "data": {
      "text/html": [
       "<div>\n",
       "<style scoped>\n",
       "    .dataframe tbody tr th:only-of-type {\n",
       "        vertical-align: middle;\n",
       "    }\n",
       "\n",
       "    .dataframe tbody tr th {\n",
       "        vertical-align: top;\n",
       "    }\n",
       "\n",
       "    .dataframe thead th {\n",
       "        text-align: right;\n",
       "    }\n",
       "</style>\n",
       "<table border=\"1\" class=\"dataframe\">\n",
       "  <thead>\n",
       "    <tr style=\"text-align: right;\">\n",
       "      <th></th>\n",
       "      <th>0</th>\n",
       "      <th>1</th>\n",
       "      <th>2</th>\n",
       "      <th>3</th>\n",
       "      <th>4</th>\n",
       "      <th>5</th>\n",
       "      <th>6</th>\n",
       "      <th>7</th>\n",
       "      <th>8</th>\n",
       "      <th>9</th>\n",
       "      <th>...</th>\n",
       "      <th>767991</th>\n",
       "      <th>767992</th>\n",
       "      <th>767993</th>\n",
       "      <th>767994</th>\n",
       "      <th>767995</th>\n",
       "      <th>767996</th>\n",
       "      <th>767997</th>\n",
       "      <th>767998</th>\n",
       "      <th>767999</th>\n",
       "      <th>768000</th>\n",
       "    </tr>\n",
       "  </thead>\n",
       "  <tbody>\n",
       "    <tr>\n",
       "      <th>0</th>\n",
       "      <td>0.955652</td>\n",
       "      <td>0.098126</td>\n",
       "      <td>0.751082</td>\n",
       "      <td>0.685012</td>\n",
       "      <td>0.143723</td>\n",
       "      <td>0.867277</td>\n",
       "      <td>0.035842</td>\n",
       "      <td>0.555974</td>\n",
       "      <td>0.906207</td>\n",
       "      <td>0.420464</td>\n",
       "      <td>...</td>\n",
       "      <td>0.966071</td>\n",
       "      <td>0.873707</td>\n",
       "      <td>0.986390</td>\n",
       "      <td>0.628676</td>\n",
       "      <td>0.149726</td>\n",
       "      <td>0.103987</td>\n",
       "      <td>0.544149</td>\n",
       "      <td>0.996392</td>\n",
       "      <td>0.314117</td>\n",
       "      <td>0.400549</td>\n",
       "    </tr>\n",
       "    <tr>\n",
       "      <th>1</th>\n",
       "      <td>0.186168</td>\n",
       "      <td>0.382381</td>\n",
       "      <td>0.472286</td>\n",
       "      <td>0.143132</td>\n",
       "      <td>0.086060</td>\n",
       "      <td>0.469927</td>\n",
       "      <td>0.430843</td>\n",
       "      <td>0.335415</td>\n",
       "      <td>0.607442</td>\n",
       "      <td>0.598190</td>\n",
       "      <td>...</td>\n",
       "      <td>0.369618</td>\n",
       "      <td>0.260195</td>\n",
       "      <td>0.365102</td>\n",
       "      <td>0.336576</td>\n",
       "      <td>0.930391</td>\n",
       "      <td>0.127194</td>\n",
       "      <td>0.231761</td>\n",
       "      <td>0.563690</td>\n",
       "      <td>0.093264</td>\n",
       "      <td>0.071561</td>\n",
       "    </tr>\n",
       "    <tr>\n",
       "      <th>2</th>\n",
       "      <td>0.434291</td>\n",
       "      <td>0.451287</td>\n",
       "      <td>0.311573</td>\n",
       "      <td>0.841874</td>\n",
       "      <td>0.099751</td>\n",
       "      <td>0.057728</td>\n",
       "      <td>0.831138</td>\n",
       "      <td>0.161115</td>\n",
       "      <td>0.376139</td>\n",
       "      <td>0.294774</td>\n",
       "      <td>...</td>\n",
       "      <td>0.708445</td>\n",
       "      <td>0.112542</td>\n",
       "      <td>0.249618</td>\n",
       "      <td>0.419617</td>\n",
       "      <td>0.346659</td>\n",
       "      <td>0.213575</td>\n",
       "      <td>0.947475</td>\n",
       "      <td>0.939074</td>\n",
       "      <td>0.911157</td>\n",
       "      <td>0.867900</td>\n",
       "    </tr>\n",
       "  </tbody>\n",
       "</table>\n",
       "<p>3 rows × 768001 columns</p>\n",
       "</div>"
      ],
      "text/plain": [
       "     0         1         2         3         4         5         6       \\\n",
       "0  0.955652  0.098126  0.751082  0.685012  0.143723  0.867277  0.035842   \n",
       "1  0.186168  0.382381  0.472286  0.143132  0.086060  0.469927  0.430843   \n",
       "2  0.434291  0.451287  0.311573  0.841874  0.099751  0.057728  0.831138   \n",
       "\n",
       "     7         8         9       ...    767991    767992    767993    767994  \\\n",
       "0  0.555974  0.906207  0.420464  ...  0.966071  0.873707  0.986390  0.628676   \n",
       "1  0.335415  0.607442  0.598190  ...  0.369618  0.260195  0.365102  0.336576   \n",
       "2  0.161115  0.376139  0.294774  ...  0.708445  0.112542  0.249618  0.419617   \n",
       "\n",
       "     767995    767996    767997    767998    767999    768000  \n",
       "0  0.149726  0.103987  0.544149  0.996392  0.314117  0.400549  \n",
       "1  0.930391  0.127194  0.231761  0.563690  0.093264  0.071561  \n",
       "2  0.346659  0.213575  0.947475  0.939074  0.911157  0.867900  \n",
       "\n",
       "[3 rows x 768001 columns]"
      ]
     },
     "execution_count": 16,
     "metadata": {},
     "output_type": "execute_result"
    }
   ],
   "source": [
    "df"
   ]
  },
  {
   "cell_type": "code",
   "execution_count": 13,
   "metadata": {},
   "outputs": [],
   "source": [
    "df[76800] = [0.78]"
   ]
  },
  {
   "cell_type": "code",
   "execution_count": 18,
   "metadata": {
    "ExecuteTime": {
     "end_time": "2021-08-18T04:36:53.908661Z",
     "start_time": "2021-08-18T04:35:49.880314Z"
    }
   },
   "outputs": [
    {
     "name": "stdout",
     "output_type": "stream",
     "text": [
      "Collecting sklearn\n",
      "  Using cached sklearn-0.0-py2.py3-none-any.whl\n",
      "Collecting scikit-learn\n",
      "  Downloading scikit_learn-0.24.2-cp37-cp37m-win_amd64.whl (6.8 MB)\n",
      "Collecting scipy>=0.19.1\n",
      "  Downloading scipy-1.7.1-cp37-cp37m-win_amd64.whl (33.6 MB)\n",
      "Requirement already satisfied: numpy>=1.13.3 in d:\\adi\\work\\clg\\capstone\\capstone\\venv\\lib\\site-packages (from scikit-learn->sklearn) (1.21.0)\n",
      "Collecting threadpoolctl>=2.0.0\n",
      "  Downloading threadpoolctl-2.2.0-py3-none-any.whl (12 kB)\n",
      "Requirement already satisfied: joblib>=0.11 in d:\\adi\\work\\clg\\capstone\\capstone\\venv\\lib\\site-packages (from scikit-learn->sklearn) (1.0.1)\n",
      "Installing collected packages: threadpoolctl, scipy, scikit-learn, sklearn\n",
      "Successfully installed scikit-learn-0.24.2 scipy-1.7.1 sklearn-0.0 threadpoolctl-2.2.0\n"
     ]
    },
    {
     "name": "stderr",
     "output_type": "stream",
     "text": [
      "WARNING: Ignoring invalid distribution -ip (d:\\adi\\work\\clg\\capstone\\capstone\\venv\\lib\\site-packages)\n",
      "WARNING: Ignoring invalid distribution -ip (d:\\adi\\work\\clg\\capstone\\capstone\\venv\\lib\\site-packages)\n",
      "WARNING: Ignoring invalid distribution -ip (d:\\adi\\work\\clg\\capstone\\capstone\\venv\\lib\\site-packages)\n",
      "WARNING: Ignoring invalid distribution -ip (d:\\adi\\work\\clg\\capstone\\capstone\\venv\\lib\\site-packages)\n",
      "WARNING: Ignoring invalid distribution -ip (d:\\adi\\work\\clg\\capstone\\capstone\\venv\\lib\\site-packages)\n",
      "WARNING: Ignoring invalid distribution -ip (d:\\adi\\work\\clg\\capstone\\capstone\\venv\\lib\\site-packages)\n",
      "WARNING: Ignoring invalid distribution -ip (d:\\adi\\work\\clg\\capstone\\capstone\\venv\\lib\\site-packages)\n",
      "WARNING: Ignoring invalid distribution -ip (d:\\adi\\work\\clg\\capstone\\capstone\\venv\\lib\\site-packages)\n",
      "WARNING: Ignoring invalid distribution -ip (d:\\adi\\work\\clg\\capstone\\capstone\\venv\\lib\\site-packages)\n",
      "WARNING: Ignoring invalid distribution -ip (d:\\adi\\work\\clg\\capstone\\capstone\\venv\\lib\\site-packages)\n",
      "WARNING: You are using pip version 21.1.3; however, version 21.2.4 is available.\n",
      "You should consider upgrading via the 'd:\\adi\\work\\clg\\capstone\\capstone\\venv\\scripts\\python.exe -m pip install --upgrade pip' command.\n"
     ]
    }
   ],
   "source": [
    "!pip install sklearn\n"
   ]
  },
  {
   "cell_type": "code",
   "execution_count": 19,
   "metadata": {
    "ExecuteTime": {
     "end_time": "2021-08-18T04:38:28.578726Z",
     "start_time": "2021-08-18T04:38:22.449473Z"
    }
   },
   "outputs": [],
   "source": [
    "from sklearn import preprocessing\n",
    "\n",
    "x = df.values #returns a numpy array\n",
    "min_max_scaler = preprocessing.MinMaxScaler()\n",
    "x_scaled = min_max_scaler.fit_transform(x)\n",
    "df1 = pd.DataFrame(x_scaled)\n",
    "df2 = df1"
   ]
  },
  {
   "cell_type": "code",
   "execution_count": 20,
   "metadata": {
    "ExecuteTime": {
     "end_time": "2021-08-18T04:38:35.840304Z",
     "start_time": "2021-08-18T04:38:35.752297Z"
    }
   },
   "outputs": [
    {
     "data": {
      "text/html": [
       "<div>\n",
       "<style scoped>\n",
       "    .dataframe tbody tr th:only-of-type {\n",
       "        vertical-align: middle;\n",
       "    }\n",
       "\n",
       "    .dataframe tbody tr th {\n",
       "        vertical-align: top;\n",
       "    }\n",
       "\n",
       "    .dataframe thead th {\n",
       "        text-align: right;\n",
       "    }\n",
       "</style>\n",
       "<table border=\"1\" class=\"dataframe\">\n",
       "  <thead>\n",
       "    <tr style=\"text-align: right;\">\n",
       "      <th></th>\n",
       "      <th>0</th>\n",
       "      <th>1</th>\n",
       "      <th>2</th>\n",
       "      <th>3</th>\n",
       "      <th>4</th>\n",
       "      <th>5</th>\n",
       "      <th>6</th>\n",
       "      <th>7</th>\n",
       "      <th>8</th>\n",
       "      <th>9</th>\n",
       "      <th>...</th>\n",
       "      <th>767991</th>\n",
       "      <th>767992</th>\n",
       "      <th>767993</th>\n",
       "      <th>767994</th>\n",
       "      <th>767995</th>\n",
       "      <th>767996</th>\n",
       "      <th>767997</th>\n",
       "      <th>767998</th>\n",
       "      <th>767999</th>\n",
       "      <th>768000</th>\n",
       "    </tr>\n",
       "  </thead>\n",
       "  <tbody>\n",
       "    <tr>\n",
       "      <th>0</th>\n",
       "      <td>1.000000</td>\n",
       "      <td>0.000000</td>\n",
       "      <td>1.000000</td>\n",
       "      <td>0.775508</td>\n",
       "      <td>1.000000</td>\n",
       "      <td>1.000000</td>\n",
       "      <td>0.000000</td>\n",
       "      <td>1.000000</td>\n",
       "      <td>1.000000</td>\n",
       "      <td>0.414251</td>\n",
       "      <td>...</td>\n",
       "      <td>1.00000</td>\n",
       "      <td>1.000000</td>\n",
       "      <td>1.000000</td>\n",
       "      <td>1.00000</td>\n",
       "      <td>0.000000</td>\n",
       "      <td>0.000000</td>\n",
       "      <td>0.436471</td>\n",
       "      <td>1.000000</td>\n",
       "      <td>0.270026</td>\n",
       "      <td>0.413126</td>\n",
       "    </tr>\n",
       "    <tr>\n",
       "      <th>1</th>\n",
       "      <td>0.000000</td>\n",
       "      <td>0.804888</td>\n",
       "      <td>0.365664</td>\n",
       "      <td>0.000000</td>\n",
       "      <td>0.000000</td>\n",
       "      <td>0.509171</td>\n",
       "      <td>0.496671</td>\n",
       "      <td>0.441422</td>\n",
       "      <td>0.436364</td>\n",
       "      <td>1.000000</td>\n",
       "      <td>...</td>\n",
       "      <td>0.00000</td>\n",
       "      <td>0.193983</td>\n",
       "      <td>0.156743</td>\n",
       "      <td>0.00000</td>\n",
       "      <td>1.000000</td>\n",
       "      <td>0.211767</td>\n",
       "      <td>0.000000</td>\n",
       "      <td>0.000000</td>\n",
       "      <td>0.000000</td>\n",
       "      <td>0.000000</td>\n",
       "    </tr>\n",
       "    <tr>\n",
       "      <th>2</th>\n",
       "      <td>0.322453</td>\n",
       "      <td>1.000000</td>\n",
       "      <td>0.000000</td>\n",
       "      <td>1.000000</td>\n",
       "      <td>0.237425</td>\n",
       "      <td>0.000000</td>\n",
       "      <td>1.000000</td>\n",
       "      <td>0.000000</td>\n",
       "      <td>0.000000</td>\n",
       "      <td>0.000000</td>\n",
       "      <td>...</td>\n",
       "      <td>0.56807</td>\n",
       "      <td>0.000000</td>\n",
       "      <td>0.000000</td>\n",
       "      <td>0.28429</td>\n",
       "      <td>0.252263</td>\n",
       "      <td>1.000000</td>\n",
       "      <td>1.000000</td>\n",
       "      <td>0.867533</td>\n",
       "      <td>1.000000</td>\n",
       "      <td>1.000000</td>\n",
       "    </tr>\n",
       "  </tbody>\n",
       "</table>\n",
       "<p>3 rows × 768001 columns</p>\n",
       "</div>"
      ],
      "text/plain": [
       "     0         1         2         3         4         5         6       \\\n",
       "0  1.000000  0.000000  1.000000  0.775508  1.000000  1.000000  0.000000   \n",
       "1  0.000000  0.804888  0.365664  0.000000  0.000000  0.509171  0.496671   \n",
       "2  0.322453  1.000000  0.000000  1.000000  0.237425  0.000000  1.000000   \n",
       "\n",
       "     7         8         9       ...   767991    767992    767993   767994  \\\n",
       "0  1.000000  1.000000  0.414251  ...  1.00000  1.000000  1.000000  1.00000   \n",
       "1  0.441422  0.436364  1.000000  ...  0.00000  0.193983  0.156743  0.00000   \n",
       "2  0.000000  0.000000  0.000000  ...  0.56807  0.000000  0.000000  0.28429   \n",
       "\n",
       "     767995    767996    767997    767998    767999    768000  \n",
       "0  0.000000  0.000000  0.436471  1.000000  0.270026  0.413126  \n",
       "1  1.000000  0.211767  0.000000  0.000000  0.000000  0.000000  \n",
       "2  0.252263  1.000000  1.000000  0.867533  1.000000  1.000000  \n",
       "\n",
       "[3 rows x 768001 columns]"
      ]
     },
     "execution_count": 20,
     "metadata": {},
     "output_type": "execute_result"
    }
   ],
   "source": [
    "df2"
   ]
  },
  {
   "cell_type": "code",
   "execution_count": 21,
   "metadata": {
    "ExecuteTime": {
     "end_time": "2021-08-18T04:39:52.235621Z",
     "start_time": "2021-08-18T04:39:52.078618Z"
    }
   },
   "outputs": [
    {
     "data": {
      "text/plain": [
       "76800"
      ]
     },
     "execution_count": 21,
     "metadata": {},
     "output_type": "execute_result"
    }
   ],
   "source": [
    "input_cols = list(df.columns)[0:76800]\n",
    "len(input_cols)"
   ]
  },
  {
   "cell_type": "code",
   "execution_count": 22,
   "metadata": {
    "ExecuteTime": {
     "end_time": "2021-08-18T04:40:02.023132Z",
     "start_time": "2021-08-18T04:40:02.003132Z"
    }
   },
   "outputs": [
    {
     "data": {
      "text/plain": [
       "[76800]"
      ]
     },
     "execution_count": 22,
     "metadata": {},
     "output_type": "execute_result"
    }
   ],
   "source": [
    "output_cols = [76800]\n",
    "output_cols"
   ]
  },
  {
   "cell_type": "code",
   "execution_count": 24,
   "metadata": {
    "ExecuteTime": {
     "end_time": "2021-08-18T04:40:35.366384Z",
     "start_time": "2021-08-18T04:40:35.352383Z"
    }
   },
   "outputs": [],
   "source": [
    "df = df2"
   ]
  },
  {
   "cell_type": "code",
   "execution_count": 26,
   "metadata": {
    "ExecuteTime": {
     "end_time": "2021-08-18T04:40:45.851161Z",
     "start_time": "2021-08-18T04:40:45.836167Z"
    }
   },
   "outputs": [],
   "source": [
    "def dataframe_to_arrays(df):\n",
    "    # Make a copy of the original dataframe\n",
    "    df5 = df.copy(deep=True)\n",
    "    # Extract input & outupts as numpy arrays\n",
    "    inputs_array = df[input_cols].to_numpy()\n",
    "    targets_array = df[output_cols].to_numpy()\n",
    "    return inputs_array, targets_array"
   ]
  },
  {
   "cell_type": "code",
   "execution_count": 27,
   "metadata": {
    "ExecuteTime": {
     "end_time": "2021-08-18T04:41:01.294459Z",
     "start_time": "2021-08-18T04:41:01.013454Z"
    }
   },
   "outputs": [
    {
     "data": {
      "text/plain": [
       "(array([[1.        , 0.        , 1.        , ..., 0.        , 0.3639754 ,\n",
       "         0.2775687 ],\n",
       "        [0.        , 0.80488753, 0.36566412, ..., 1.        , 1.        ,\n",
       "         1.0000001 ],\n",
       "        [0.32245332, 1.        , 0.        , ..., 0.24601266, 0.        ,\n",
       "         0.        ]], dtype=float32),\n",
       " array([[0.99999994],\n",
       "        [0.        ],\n",
       "        [0.39303517]], dtype=float32))"
      ]
     },
     "execution_count": 27,
     "metadata": {},
     "output_type": "execute_result"
    }
   ],
   "source": [
    "inputs_array, targets_array = dataframe_to_arrays(df)\n",
    "inputs_array, targets_array"
   ]
  },
  {
   "cell_type": "code",
   "execution_count": 28,
   "metadata": {
    "ExecuteTime": {
     "end_time": "2021-08-18T04:41:24.990597Z",
     "start_time": "2021-08-18T04:41:24.935061Z"
    }
   },
   "outputs": [],
   "source": [
    "inputs = torch.Tensor(inputs_array)\n",
    "targets = torch.Tensor(targets_array)"
   ]
  },
  {
   "cell_type": "code",
   "execution_count": 24,
   "metadata": {},
   "outputs": [
    {
     "data": {
      "text/html": [
       "<div>\n",
       "<style scoped>\n",
       "    .dataframe tbody tr th:only-of-type {\n",
       "        vertical-align: middle;\n",
       "    }\n",
       "\n",
       "    .dataframe tbody tr th {\n",
       "        vertical-align: top;\n",
       "    }\n",
       "\n",
       "    .dataframe thead th {\n",
       "        text-align: right;\n",
       "    }\n",
       "</style>\n",
       "<table border=\"1\" class=\"dataframe\">\n",
       "  <thead>\n",
       "    <tr style=\"text-align: right;\">\n",
       "      <th></th>\n",
       "      <th>76800</th>\n",
       "    </tr>\n",
       "  </thead>\n",
       "  <tbody>\n",
       "    <tr>\n",
       "      <th>0</th>\n",
       "      <td>0.78</td>\n",
       "    </tr>\n",
       "  </tbody>\n",
       "</table>\n",
       "</div>"
      ],
      "text/plain": [
       "   76800\n",
       "0   0.78"
      ]
     },
     "execution_count": 24,
     "metadata": {},
     "output_type": "execute_result"
    }
   ],
   "source": [
    "df[output_cols]"
   ]
  },
  {
   "cell_type": "code",
   "execution_count": 29,
   "metadata": {
    "ExecuteTime": {
     "end_time": "2021-08-18T04:41:59.335988Z",
     "start_time": "2021-08-18T04:41:59.329988Z"
    }
   },
   "outputs": [],
   "source": [
    "from torch.utils.data import DataLoader, TensorDataset, random_split\n",
    "dataset = TensorDataset(inputs, targets)"
   ]
  },
  {
   "cell_type": "code",
   "execution_count": 32,
   "metadata": {
    "ExecuteTime": {
     "end_time": "2021-08-18T04:42:34.584180Z",
     "start_time": "2021-08-18T04:42:34.571180Z"
    }
   },
   "outputs": [],
   "source": [
    "num_rows = len(df)\n",
    "val_percent = 0.5\n",
    "val_size = int(num_rows * val_percent)\n",
    "train_size = num_rows - val_size\n",
    "\n",
    "\n",
    "train_df, val_df = random_split(dataset, [train_size, val_size]) "
   ]
  },
  {
   "cell_type": "code",
   "execution_count": 33,
   "metadata": {
    "ExecuteTime": {
     "end_time": "2021-08-18T04:42:35.166181Z",
     "start_time": "2021-08-18T04:42:35.156179Z"
    }
   },
   "outputs": [
    {
     "name": "stdout",
     "output_type": "stream",
     "text": [
      "2\n",
      "1\n"
     ]
    }
   ],
   "source": [
    "print(len(train_df))\n",
    "print(len(val_df))"
   ]
  },
  {
   "cell_type": "code",
   "execution_count": 34,
   "metadata": {
    "ExecuteTime": {
     "end_time": "2021-08-18T04:42:39.274176Z",
     "start_time": "2021-08-18T04:42:39.254176Z"
    }
   },
   "outputs": [],
   "source": [
    "batch_size = 1"
   ]
  },
  {
   "cell_type": "code",
   "execution_count": 35,
   "metadata": {
    "ExecuteTime": {
     "end_time": "2021-08-18T04:42:43.196179Z",
     "start_time": "2021-08-18T04:42:43.177178Z"
    }
   },
   "outputs": [],
   "source": [
    "train_loader = DataLoader(train_df, batch_size, shuffle=True)\n",
    "val_loader = DataLoader(val_df, batch_size)"
   ]
  },
  {
   "cell_type": "code",
   "execution_count": 36,
   "metadata": {
    "ExecuteTime": {
     "end_time": "2021-08-18T04:42:50.831136Z",
     "start_time": "2021-08-18T04:42:50.816139Z"
    }
   },
   "outputs": [
    {
     "name": "stdout",
     "output_type": "stream",
     "text": [
      "76800\n",
      "1\n"
     ]
    }
   ],
   "source": [
    "input_size = len(input_cols)\n",
    "output_size = 1\n",
    "print(input_size)\n",
    "print(output_size)"
   ]
  },
  {
   "cell_type": "code",
   "execution_count": 37,
   "metadata": {
    "ExecuteTime": {
     "end_time": "2021-08-18T04:42:53.727780Z",
     "start_time": "2021-08-18T04:42:53.685789Z"
    }
   },
   "outputs": [],
   "source": [
    "import torch.nn as nn\n",
    "import torch.nn.functional as F\n",
    "class GradingModel(nn.Module):\n",
    "    def __init__(self):\n",
    "        super().__init__()\n",
    "        self.fc1 = nn.Linear(input_size,2000)\n",
    "        self.fc2 = nn.Linear(2000,3000)\n",
    "        self.fc3 = nn.Linear(3000,2000)\n",
    "        self.fc4 = nn.Linear(2000,1000)\n",
    "        self.fc5 = nn.Linear(1000,5)\n",
    "        self.fc6 = nn.Linear(5,output_size)\n",
    "    def forward(self, xb):\n",
    "        xb = F.relu(self.fc1(xb))\n",
    "        xb = F.relu(self.fc2(xb))\n",
    "        xb = F.relu(self.fc3(xb))\n",
    "        xb = F.relu(self.fc4(xb))\n",
    "        xb = F.relu(self.fc5(xb))\n",
    "        xb = F.relu(self.fc6(xb))      # batch wise forwarding\n",
    "        return xb\n",
    "    \n",
    "    def training_step(self, batch):\n",
    "        inputs, targets = batch \n",
    "        # Generate predictions\n",
    "        out = self(inputs)         \n",
    "        # Calcuate loss\n",
    "        loss = F.l1_loss(out, targets)  # batch wise training step and loss\n",
    "        return loss\n",
    "    \n",
    "    def validation_step(self, batch):\n",
    "        inputs, targets = batch\n",
    "        # Generate predictions\n",
    "        out = self(inputs)\n",
    "        # Calculate loss\n",
    "        loss =F.l1_loss(out, targets)       # batch wise validation and loss    \n",
    "        return {'val_loss': loss.detach()}\n",
    "        \n",
    "    def validation_epoch_end(self, outputs):\n",
    "        batch_losses = [x['val_loss'] for x in outputs]\n",
    "        epoch_loss = torch.stack(batch_losses).mean()   # Combine val losses of all batches as average\n",
    "        return {'val_loss': epoch_loss.item()}\n",
    "    \n",
    "    def epoch_end(self, epoch, result, num_epochs):\n",
    "        # Print result every 20th epoch\n",
    "        if (epoch+1) % 100 == 0 or epoch == num_epochs-1:\n",
    "            print(\"Epoch [{}], val_loss: {:.4f}\".format(epoch+1, result['val_loss']))"
   ]
  },
  {
   "cell_type": "code",
   "execution_count": 38,
   "metadata": {
    "ExecuteTime": {
     "end_time": "2021-08-18T04:42:56.234778Z",
     "start_time": "2021-08-18T04:42:56.206782Z"
    }
   },
   "outputs": [],
   "source": [
    "def evaluate2(model, val_loader):\n",
    "    outputs = [model.validation_step(batch) for batch in val_loader]\n",
    "    return model.validation_epoch_end(outputs)\n",
    "\n",
    "def fit(epochs, lr, model, train_loader, val_loader, opt_func=torch.optim.Adam):\n",
    "    lr,\n",
    "    model,\n",
    "    train_loader,\n",
    "    history = []\n",
    "    optimizer = opt_func(model.parameters(), lr)\n",
    "    for epoch in range(epochs):\n",
    "        # Training Phase \n",
    "        for batch in train_loader:\n",
    "            loss = model.training_step(batch)\n",
    "            loss.backward()\n",
    "            optimizer.step()\n",
    "            optimizer.zero_grad()\n",
    "        # Validation phase\n",
    "        result = evaluate2(model, val_loader)\n",
    "        model.epoch_end(epoch, result, epochs)\n",
    "        history.append(result)  \n",
    "    return history"
   ]
  },
  {
   "cell_type": "code",
   "execution_count": 39,
   "metadata": {
    "ExecuteTime": {
     "end_time": "2021-08-18T04:43:03.610724Z",
     "start_time": "2021-08-18T04:43:00.269779Z"
    }
   },
   "outputs": [
    {
     "name": "stdout",
     "output_type": "stream",
     "text": [
      "{'val_loss': 0.3930351734161377}\n"
     ]
    }
   ],
   "source": [
    "model2 =  GradingModel()\n",
    "result = evaluate2(model2,val_loader)\n",
    "print(result)"
   ]
  },
  {
   "cell_type": "code",
   "execution_count": 40,
   "metadata": {
    "ExecuteTime": {
     "end_time": "2021-08-18T04:43:08.401511Z",
     "start_time": "2021-08-18T04:43:08.387508Z"
    }
   },
   "outputs": [],
   "source": [
    "def predict_single(input, target, model):\n",
    "    inputs = input.unsqueeze(0) \n",
    "    predictions = model(inputs)\n",
    "    prediction = predictions[0].detach()\n",
    "    print(\"Input:\", input)\n",
    "    print(\"Target:\", target)\n",
    "    print(\"Prediction:\", prediction)"
   ]
  },
  {
   "cell_type": "code",
   "execution_count": 41,
   "metadata": {
    "ExecuteTime": {
     "end_time": "2021-08-18T04:43:10.108509Z",
     "start_time": "2021-08-18T04:43:10.004510Z"
    }
   },
   "outputs": [
    {
     "name": "stdout",
     "output_type": "stream",
     "text": [
      "Input: tensor([0.3225, 1.0000, 0.0000,  ..., 0.2460, 0.0000, 0.0000])\n",
      "Target: tensor([0.3930])\n",
      "Prediction: tensor([0.])\n"
     ]
    }
   ],
   "source": [
    "input, target = val_df[0]\n",
    "predict_single(input, target, model2)"
   ]
  },
  {
   "cell_type": "code",
   "execution_count": 44,
   "metadata": {
    "ExecuteTime": {
     "end_time": "2021-08-18T04:46:24.860102Z",
     "start_time": "2021-08-18T04:46:12.532210Z"
    }
   },
   "outputs": [
    {
     "name": "stdout",
     "output_type": "stream",
     "text": [
      "Epoch [1], val_loss: 0.3930\n"
     ]
    }
   ],
   "source": [
    "epochs = 1\n",
    "lr = 1e-3\n",
    "history5 = fit(epochs, lr, model2, train_loader, val_loader)"
   ]
  },
  {
   "cell_type": "code",
   "execution_count": 45,
   "metadata": {
    "ExecuteTime": {
     "end_time": "2021-08-18T04:46:41.644603Z",
     "start_time": "2021-08-18T04:46:41.342601Z"
    }
   },
   "outputs": [
    {
     "name": "stdout",
     "output_type": "stream",
     "text": [
      "Input: tensor([0.3225, 1.0000, 0.0000,  ..., 0.2460, 0.0000, 0.0000])\n",
      "Target: tensor([0.3930])\n",
      "Prediction: tensor([0.])\n"
     ]
    }
   ],
   "source": [
    "input, target = val_df[0]\n",
    "predict_single(input, target, model2)"
   ]
  },
  {
   "cell_type": "code",
   "execution_count": 46,
   "metadata": {
    "ExecuteTime": {
     "end_time": "2021-08-18T04:46:41.676603Z",
     "start_time": "2021-08-18T04:46:41.650604Z"
    }
   },
   "outputs": [],
   "source": [
    "def predict_right(input, target, model):\n",
    "    inputs = input.unsqueeze(0)\n",
    "    predictions = model(inputs)\n",
    "    prediction = predictions[0].detach()\n",
    "    if abs(prediction - target) < 0.33:\n",
    "        return 1\n",
    "    else:\n",
    "        return 0"
   ]
  },
  {
   "cell_type": "code",
   "execution_count": 47,
   "metadata": {
    "ExecuteTime": {
     "end_time": "2021-08-18T04:46:42.102598Z",
     "start_time": "2021-08-18T04:46:41.684610Z"
    }
   },
   "outputs": [],
   "source": [
    "results = []\n",
    "for i in range(0,len(val_df)):\n",
    "    input, target = val_df[i]\n",
    "    results.append(predict_right(input, target, model2))"
   ]
  },
  {
   "cell_type": "code",
   "execution_count": 48,
   "metadata": {
    "ExecuteTime": {
     "end_time": "2021-08-18T04:46:42.117608Z",
     "start_time": "2021-08-18T04:46:42.107602Z"
    }
   },
   "outputs": [],
   "source": [
    "count = 0\n",
    "for i in results:\n",
    "    if i == 1:\n",
    "        count+=1"
   ]
  },
  {
   "cell_type": "code",
   "execution_count": 49,
   "metadata": {
    "ExecuteTime": {
     "end_time": "2021-08-18T04:46:42.322602Z",
     "start_time": "2021-08-18T04:46:42.131605Z"
    }
   },
   "outputs": [
    {
     "data": {
      "text/plain": [
       "0"
      ]
     },
     "execution_count": 49,
     "metadata": {},
     "output_type": "execute_result"
    }
   ],
   "source": [
    "count"
   ]
  },
  {
   "cell_type": "code",
   "execution_count": 50,
   "metadata": {
    "ExecuteTime": {
     "end_time": "2021-08-18T04:46:42.602600Z",
     "start_time": "2021-08-18T04:46:42.577603Z"
    }
   },
   "outputs": [
    {
     "data": {
      "text/plain": [
       "[0]"
      ]
     },
     "execution_count": 50,
     "metadata": {},
     "output_type": "execute_result"
    }
   ],
   "source": [
    "results"
   ]
  },
  {
   "cell_type": "code",
   "execution_count": 51,
   "metadata": {
    "ExecuteTime": {
     "end_time": "2021-08-18T04:46:42.762637Z",
     "start_time": "2021-08-18T04:46:42.721602Z"
    }
   },
   "outputs": [
    {
     "data": {
      "text/plain": [
       "0.0"
      ]
     },
     "execution_count": 51,
     "metadata": {},
     "output_type": "execute_result"
    }
   ],
   "source": [
    "count/len(val_df)"
   ]
  },
  {
   "cell_type": "code",
   "execution_count": 52,
   "metadata": {
    "ExecuteTime": {
     "end_time": "2021-08-18T04:47:03.835373Z",
     "start_time": "2021-08-18T04:46:42.971600Z"
    }
   },
   "outputs": [
    {
     "data": {
      "image/png": "[encoded data removed]",
      "text/plain": [
       "<Figure size 432x288 with 1 Axes>"
      ]
     },
     "metadata": {
      "needs_background": "light"
     },
     "output_type": "display_data"
    }
   ],
   "source": [
    "import matplotlib.pyplot as plt\n",
    "plt.title('val_loss vs. No. of epochs');\n",
    "loss_mat = [res['val_loss'] for res in [result] + history5]\n",
    "plt.plot(loss_mat, '-x')\n",
    "plt.xlabel('epoch')\n",
    "plt.ylabel('val_loss')\n",
    "\n",
    "val_loss = loss_mat[-1]"
   ]
  },
  {
   "cell_type": "code",
   "execution_count": null,
   "metadata": {},
   "outputs": [],
   "source": []
  },
  {
   "cell_type": "code",
   "execution_count": null,
   "metadata": {},
   "outputs": [],
   "source": []
  }
 ],
 "metadata": {
  "kernelspec": {
   "display_name": "myenv",
   "language": "python",
   "name": "myenv"
  },
  "language_info": {
   "codemirror_mode": {
    "name": "ipython",
    "version": 3
   },
   "file_extension": ".py",
   "mimetype": "text/x-python",
   "name": "python",
   "nbconvert_exporter": "python",
   "pygments_lexer": "ipython3",
   "version": "3.7.6"
  },
  "toc": {
   "base_numbering": 1,
   "nav_menu": {},
   "number_sections": true,
   "sideBar": true,
   "skip_h1_title": false,
   "title_cell": "Table of Contents",
   "title_sidebar": "Contents",
   "toc_cell": false,
   "toc_position": {},
   "toc_section_display": true,
   "toc_window_display": false
  }
 },
 "nbformat": 4,
 "nbformat_minor": 4
}
