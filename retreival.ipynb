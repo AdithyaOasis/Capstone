{
 "cells": [
  {
   "cell_type": "code",
   "execution_count": 3,
   "id": "d4bd9a36",
   "metadata": {},
   "outputs": [
    {
     "name": "stdout",
     "output_type": "stream",
     "text": [
      "Requirement already satisfied: farm-haystack in c:\\users\\asus\\anaconda3\\lib\\site-packages (0.8.0)\n",
      "Requirement already satisfied: python-multipart in c:\\users\\asus\\anaconda3\\lib\\site-packages (from farm-haystack) (0.0.5)\n",
      "Requirement already satisfied: pandas in c:\\users\\asus\\anaconda3\\lib\\site-packages (from farm-haystack) (1.2.4)\n",
      "Requirement already satisfied: fastapi in c:\\users\\asus\\anaconda3\\lib\\site-packages (from farm-haystack) (0.65.1)\n",
      "Requirement already satisfied: sqlalchemy>=1.4.2 in c:\\users\\asus\\anaconda3\\lib\\site-packages (from farm-haystack) (1.4.15)\n",
      "Requirement already satisfied: httptools in c:\\users\\asus\\anaconda3\\lib\\site-packages (from farm-haystack) (0.2.0)\n",
      "Requirement already satisfied: tox in c:\\users\\asus\\anaconda3\\lib\\site-packages (from farm-haystack) (3.23.1)\n",
      "Requirement already satisfied: coverage in c:\\users\\asus\\anaconda3\\lib\\site-packages (from farm-haystack) (5.5)\n",
      "Requirement already satisfied: uvicorn in c:\\users\\asus\\anaconda3\\lib\\site-packages (from farm-haystack) (0.13.4)\n",
      "Requirement already satisfied: nltk in c:\\users\\asus\\anaconda3\\lib\\site-packages (from farm-haystack) (3.6.2)\n",
      "Requirement already satisfied: python-docx in c:\\users\\asus\\anaconda3\\lib\\site-packages (from farm-haystack) (0.8.11)\n",
      "Requirement already satisfied: gunicorn in c:\\users\\asus\\anaconda3\\lib\\site-packages (from farm-haystack) (20.1.0)\n",
      "Requirement already satisfied: SPARQLWrapper in c:\\users\\asus\\anaconda3\\lib\\site-packages (from farm-haystack) (1.8.5)\n",
      "Requirement already satisfied: sklearn in c:\\users\\asus\\anaconda3\\lib\\site-packages (from farm-haystack) (0.0)\n",
      "Requirement already satisfied: langdetect in c:\\users\\asus\\anaconda3\\lib\\site-packages (from farm-haystack) (1.0.9)\n",
      "Requirement already satisfied: tika in c:\\users\\asus\\anaconda3\\lib\\site-packages (from farm-haystack) (1.24)\n",
      "Requirement already satisfied: elasticsearch<=7.10,>=7.7 in c:\\users\\asus\\anaconda3\\lib\\site-packages (from farm-haystack) (7.10.0)\n",
      "Requirement already satisfied: networkx in c:\\users\\asus\\anaconda3\\lib\\site-packages (from farm-haystack) (2.5)\n",
      "Requirement already satisfied: sqlalchemy-utils in c:\\users\\asus\\anaconda3\\lib\\site-packages (from farm-haystack) (0.37.4)\n",
      "Requirement already satisfied: more-itertools in c:\\users\\asus\\anaconda3\\lib\\site-packages (from farm-haystack) (8.7.0)\n",
      "Requirement already satisfied: farm==0.7.1 in c:\\users\\asus\\anaconda3\\lib\\site-packages (from farm-haystack) (0.7.1)\n",
      "Requirement already satisfied: pymilvus in c:\\users\\asus\\anaconda3\\lib\\site-packages (from farm-haystack) (1.1.0)\n",
      "Requirement already satisfied: elastic-apm in c:\\users\\asus\\anaconda3\\lib\\site-packages (from farm-haystack) (6.1.3)\n",
      "Requirement already satisfied: faiss-cpu>=1.6.3 in c:\\users\\asus\\anaconda3\\lib\\site-packages (from farm-haystack) (1.7.0)\n",
      "Requirement already satisfied: scipy>=1.3.2 in c:\\users\\asus\\anaconda3\\lib\\site-packages (from farm==0.7.1->farm-haystack) (1.6.2)\n",
      "Requirement already satisfied: torch<1.8,>1.5 in c:\\users\\asus\\anaconda3\\lib\\site-packages (from farm==0.7.1->farm-haystack) (1.7.1)\n",
      "Requirement already satisfied: Werkzeug==0.16.1 in c:\\users\\asus\\anaconda3\\lib\\site-packages (from farm==0.7.1->farm-haystack) (0.16.1)\n",
      "Requirement already satisfied: flask-restplus in c:\\users\\asus\\anaconda3\\lib\\site-packages (from farm==0.7.1->farm-haystack) (0.13.0)\n",
      "Requirement already satisfied: setuptools in c:\\users\\asus\\anaconda3\\lib\\site-packages (from farm==0.7.1->farm-haystack) (52.0.0.post20210125)\n",
      "Requirement already satisfied: seqeval in c:\\users\\asus\\anaconda3\\lib\\site-packages (from farm==0.7.1->farm-haystack) (1.2.2)\n",
      "Requirement already satisfied: dill in c:\\users\\asus\\anaconda3\\lib\\site-packages (from farm==0.7.1->farm-haystack) (0.3.3)\n",
      "Requirement already satisfied: tqdm in c:\\users\\asus\\anaconda3\\lib\\site-packages (from farm==0.7.1->farm-haystack) (4.59.0)\n",
      "Requirement already satisfied: dotmap in c:\\users\\asus\\anaconda3\\lib\\site-packages (from farm==0.7.1->farm-haystack) (1.3.23)\n",
      "Requirement already satisfied: flask in c:\\users\\asus\\anaconda3\\lib\\site-packages (from farm==0.7.1->farm-haystack) (1.1.2)\n",
      "Requirement already satisfied: psutil in c:\\users\\asus\\anaconda3\\lib\\site-packages (from farm==0.7.1->farm-haystack) (5.8.0)\n",
      "Requirement already satisfied: transformers==4.1.1 in c:\\users\\asus\\anaconda3\\lib\\site-packages (from farm==0.7.1->farm-haystack) (4.1.1)\n",
      "Requirement already satisfied: wheel in c:\\users\\asus\\anaconda3\\lib\\site-packages (from farm==0.7.1->farm-haystack) (0.36.2)\n",
      "Requirement already satisfied: boto3 in c:\\users\\asus\\anaconda3\\lib\\site-packages (from farm==0.7.1->farm-haystack) (1.17.83)\n",
      "Requirement already satisfied: sentencepiece in c:\\users\\asus\\anaconda3\\lib\\site-packages (from farm==0.7.1->farm-haystack) (0.1.95)\n",
      "Requirement already satisfied: requests in c:\\users\\asus\\anaconda3\\lib\\site-packages (from farm==0.7.1->farm-haystack) (2.25.1)\n",
      "Requirement already satisfied: mlflow<=1.13.1 in c:\\users\\asus\\anaconda3\\lib\\site-packages (from farm==0.7.1->farm-haystack) (1.13.1)\n",
      "Requirement already satisfied: flask-cors in c:\\users\\asus\\anaconda3\\lib\\site-packages (from farm==0.7.1->farm-haystack) (3.0.10)\n",
      "Requirement already satisfied: numpy in c:\\users\\asus\\anaconda3\\lib\\site-packages (from transformers==4.1.1->farm==0.7.1->farm-haystack) (1.20.2)\n",
      "Requirement already satisfied: sacremoses in c:\\users\\asus\\anaconda3\\lib\\site-packages (from transformers==4.1.1->farm==0.7.1->farm-haystack) (0.0.45)\n",
      "Requirement already satisfied: tokenizers==0.9.4 in c:\\users\\asus\\anaconda3\\lib\\site-packages (from transformers==4.1.1->farm==0.7.1->farm-haystack) (0.9.4)\n",
      "Requirement already satisfied: packaging in c:\\users\\asus\\anaconda3\\lib\\site-packages (from transformers==4.1.1->farm==0.7.1->farm-haystack) (20.9)\n",
      "Requirement already satisfied: filelock in c:\\users\\asus\\anaconda3\\lib\\site-packages (from transformers==4.1.1->farm==0.7.1->farm-haystack) (3.0.12)\n",
      "Requirement already satisfied: regex!=2019.12.17 in c:\\users\\asus\\anaconda3\\lib\\site-packages (from transformers==4.1.1->farm==0.7.1->farm-haystack) (2021.4.4)\n",
      "Requirement already satisfied: urllib3<2,>=1.21.1 in c:\\users\\asus\\anaconda3\\lib\\site-packages (from elasticsearch<=7.10,>=7.7->farm-haystack) (1.26.4)\n",
      "Requirement already satisfied: certifi in c:\\users\\asus\\anaconda3\\lib\\site-packages (from elasticsearch<=7.10,>=7.7->farm-haystack) (2020.12.5)\n",
      "Requirement already satisfied: querystring-parser in c:\\users\\asus\\anaconda3\\lib\\site-packages (from mlflow<=1.13.1->farm==0.7.1->farm-haystack) (1.2.4)\n",
      "Requirement already satisfied: protobuf>=3.6.0 in c:\\users\\asus\\anaconda3\\lib\\site-packages (from mlflow<=1.13.1->farm==0.7.1->farm-haystack) (3.17.1)\n",
      "Requirement already satisfied: entrypoints in c:\\users\\asus\\anaconda3\\lib\\site-packages (from mlflow<=1.13.1->farm==0.7.1->farm-haystack) (0.3)\n",
      "Requirement already satisfied: cloudpickle in c:\\users\\asus\\anaconda3\\lib\\site-packages (from mlflow<=1.13.1->farm==0.7.1->farm-haystack) (1.6.0)\n",
      "Requirement already satisfied: waitress in c:\\users\\asus\\anaconda3\\lib\\site-packages (from mlflow<=1.13.1->farm==0.7.1->farm-haystack) (2.0.0)\n",
      "Requirement already satisfied: azure-storage-blob>=12.0.0 in c:\\users\\asus\\anaconda3\\lib\\site-packages (from mlflow<=1.13.1->farm==0.7.1->farm-haystack) (12.8.1)\n",
      "Requirement already satisfied: docker>=4.0.0 in c:\\users\\asus\\anaconda3\\lib\\site-packages (from mlflow<=1.13.1->farm==0.7.1->farm-haystack) (5.0.0)\n",
      "Requirement already satisfied: alembic<=1.4.1 in c:\\users\\asus\\anaconda3\\lib\\site-packages (from mlflow<=1.13.1->farm==0.7.1->farm-haystack) (1.4.1)\n",
      "Requirement already satisfied: pyyaml in c:\\users\\asus\\anaconda3\\lib\\site-packages (from mlflow<=1.13.1->farm==0.7.1->farm-haystack) (5.4.1)\n",
      "Requirement already satisfied: sqlparse>=0.3.1 in c:\\users\\asus\\anaconda3\\lib\\site-packages (from mlflow<=1.13.1->farm==0.7.1->farm-haystack) (0.4.1)\n",
      "Requirement already satisfied: gitpython>=2.1.0 in c:\\users\\asus\\anaconda3\\lib\\site-packages (from mlflow<=1.13.1->farm==0.7.1->farm-haystack) (3.1.17)\n",
      "Requirement already satisfied: prometheus-flask-exporter in c:\\users\\asus\\anaconda3\\lib\\site-packages (from mlflow<=1.13.1->farm==0.7.1->farm-haystack) (0.18.2)\n",
      "Requirement already satisfied: python-dateutil in c:\\users\\asus\\anaconda3\\lib\\site-packages (from mlflow<=1.13.1->farm==0.7.1->farm-haystack) (2.8.1)\n",
      "Requirement already satisfied: databricks-cli>=0.8.7 in c:\\users\\asus\\anaconda3\\lib\\site-packages (from mlflow<=1.13.1->farm==0.7.1->farm-haystack) (0.14.3)\n",
      "Requirement already satisfied: click>=7.0 in c:\\users\\asus\\anaconda3\\lib\\site-packages (from mlflow<=1.13.1->farm==0.7.1->farm-haystack) (7.1.2)\n",
      "Requirement already satisfied: six>=1.10.0 in c:\\users\\asus\\anaconda3\\lib\\site-packages (from mlflow<=1.13.1->farm==0.7.1->farm-haystack) (1.15.0)\n",
      "Requirement already satisfied: python-editor>=0.3 in c:\\users\\asus\\anaconda3\\lib\\site-packages (from alembic<=1.4.1->mlflow<=1.13.1->farm==0.7.1->farm-haystack) (1.0.4)\n",
      "Requirement already satisfied: Mako in c:\\users\\asus\\anaconda3\\lib\\site-packages (from alembic<=1.4.1->mlflow<=1.13.1->farm==0.7.1->farm-haystack) (1.1.4)\n",
      "Requirement already satisfied: azure-core<2.0.0,>=1.10.0 in c:\\users\\asus\\anaconda3\\lib\\site-packages (from azure-storage-blob>=12.0.0->mlflow<=1.13.1->farm==0.7.1->farm-haystack) (1.14.0)\n",
      "Requirement already satisfied: cryptography>=2.1.4 in c:\\users\\asus\\anaconda3\\lib\\site-packages (from azure-storage-blob>=12.0.0->mlflow<=1.13.1->farm==0.7.1->farm-haystack) (3.4.7)\n",
      "Requirement already satisfied: msrest>=0.6.18 in c:\\users\\asus\\anaconda3\\lib\\site-packages (from azure-storage-blob>=12.0.0->mlflow<=1.13.1->farm==0.7.1->farm-haystack) (0.6.21)\n",
      "Requirement already satisfied: cffi>=1.12 in c:\\users\\asus\\anaconda3\\lib\\site-packages (from cryptography>=2.1.4->azure-storage-blob>=12.0.0->mlflow<=1.13.1->farm==0.7.1->farm-haystack) (1.14.5)\n",
      "Requirement already satisfied: pycparser in c:\\users\\asus\\anaconda3\\lib\\site-packages (from cffi>=1.12->cryptography>=2.1.4->azure-storage-blob>=12.0.0->mlflow<=1.13.1->farm==0.7.1->farm-haystack) (2.20)\n",
      "Requirement already satisfied: tabulate>=0.7.7 in c:\\users\\asus\\anaconda3\\lib\\site-packages (from databricks-cli>=0.8.7->mlflow<=1.13.1->farm==0.7.1->farm-haystack) (0.8.9)\n",
      "Requirement already satisfied: pywin32==227 in c:\\users\\asus\\anaconda3\\lib\\site-packages (from docker>=4.0.0->mlflow<=1.13.1->farm==0.7.1->farm-haystack) (227)\n",
      "Requirement already satisfied: websocket-client>=0.32.0 in c:\\users\\asus\\anaconda3\\lib\\site-packages (from docker>=4.0.0->mlflow<=1.13.1->farm==0.7.1->farm-haystack) (1.0.1)\n",
      "Requirement already satisfied: gitdb<5,>=4.0.1 in c:\\users\\asus\\anaconda3\\lib\\site-packages (from gitpython>=2.1.0->mlflow<=1.13.1->farm==0.7.1->farm-haystack) (4.0.7)\n",
      "Requirement already satisfied: smmap<5,>=3.0.1 in c:\\users\\asus\\anaconda3\\lib\\site-packages (from gitdb<5,>=4.0.1->gitpython>=2.1.0->mlflow<=1.13.1->farm==0.7.1->farm-haystack) (4.0.0)\n",
      "Requirement already satisfied: isodate>=0.6.0 in c:\\users\\asus\\anaconda3\\lib\\site-packages (from msrest>=0.6.18->azure-storage-blob>=12.0.0->mlflow<=1.13.1->farm==0.7.1->farm-haystack) (0.6.0)\n",
      "Requirement already satisfied: requests-oauthlib>=0.5.0 in c:\\users\\asus\\anaconda3\\lib\\site-packages (from msrest>=0.6.18->azure-storage-blob>=12.0.0->mlflow<=1.13.1->farm==0.7.1->farm-haystack) (1.3.0)\n",
      "Requirement already satisfied: idna<3,>=2.5 in c:\\users\\asus\\anaconda3\\lib\\site-packages (from requests->farm==0.7.1->farm-haystack) (2.10)\n",
      "Requirement already satisfied: chardet<5,>=3.0.2 in c:\\users\\asus\\anaconda3\\lib\\site-packages (from requests->farm==0.7.1->farm-haystack) (4.0.0)\n",
      "Requirement already satisfied: oauthlib>=3.0.0 in c:\\users\\asus\\anaconda3\\lib\\site-packages (from requests-oauthlib>=0.5.0->msrest>=0.6.18->azure-storage-blob>=12.0.0->mlflow<=1.13.1->farm==0.7.1->farm-haystack) (3.1.0)\n",
      "Requirement already satisfied: greenlet!=0.4.17 in c:\\users\\asus\\anaconda3\\lib\\site-packages (from sqlalchemy>=1.4.2->farm-haystack) (1.1.0)\n",
      "Requirement already satisfied: typing-extensions in c:\\users\\asus\\anaconda3\\lib\\site-packages (from torch<1.8,>1.5->farm==0.7.1->farm-haystack) (3.7.4.3)\n",
      "Requirement already satisfied: s3transfer<0.5.0,>=0.4.0 in c:\\users\\asus\\anaconda3\\lib\\site-packages (from boto3->farm==0.7.1->farm-haystack) (0.4.2)\n",
      "Requirement already satisfied: botocore<1.21.0,>=1.20.83 in c:\\users\\asus\\anaconda3\\lib\\site-packages (from boto3->farm==0.7.1->farm-haystack) (1.20.83)\n",
      "Requirement already satisfied: jmespath<1.0.0,>=0.7.1 in c:\\users\\asus\\anaconda3\\lib\\site-packages (from boto3->farm==0.7.1->farm-haystack) (0.10.0)\n",
      "Requirement already satisfied: pydantic!=1.7,!=1.7.1,!=1.7.2,!=1.7.3,!=1.8,!=1.8.1,<2.0.0,>=1.6.2 in c:\\users\\asus\\anaconda3\\lib\\site-packages (from fastapi->farm-haystack) (1.8.2)\n",
      "Requirement already satisfied: starlette==0.14.2 in c:\\users\\asus\\anaconda3\\lib\\site-packages (from fastapi->farm-haystack) (0.14.2)\n",
      "Requirement already satisfied: itsdangerous>=0.24 in c:\\users\\asus\\anaconda3\\lib\\site-packages (from flask->farm==0.7.1->farm-haystack) (2.0.1)\n",
      "Requirement already satisfied: Jinja2>=2.10.1 in c:\\users\\asus\\anaconda3\\lib\\site-packages (from flask->farm==0.7.1->farm-haystack) (3.0.0)\n",
      "Requirement already satisfied: MarkupSafe>=2.0.0rc2 in c:\\users\\asus\\anaconda3\\lib\\site-packages (from Jinja2>=2.10.1->flask->farm==0.7.1->farm-haystack) (2.0.1)\n",
      "Requirement already satisfied: jsonschema in c:\\users\\asus\\anaconda3\\lib\\site-packages (from flask-restplus->farm==0.7.1->farm-haystack) (3.2.0)\n",
      "Requirement already satisfied: aniso8601>=0.82 in c:\\users\\asus\\anaconda3\\lib\\site-packages (from flask-restplus->farm==0.7.1->farm-haystack) (9.0.1)\n",
      "Requirement already satisfied: pytz in c:\\users\\asus\\anaconda3\\lib\\site-packages (from flask-restplus->farm==0.7.1->farm-haystack) (2021.1)\n",
      "Requirement already satisfied: pyrsistent>=0.14.0 in c:\\users\\asus\\anaconda3\\lib\\site-packages (from jsonschema->flask-restplus->farm==0.7.1->farm-haystack) (0.17.3)\n",
      "Requirement already satisfied: attrs>=17.4.0 in c:\\users\\asus\\anaconda3\\lib\\site-packages (from jsonschema->flask-restplus->farm==0.7.1->farm-haystack) (21.2.0)\n",
      "Requirement already satisfied: decorator>=4.3.0 in c:\\users\\asus\\anaconda3\\lib\\site-packages (from networkx->farm-haystack) (5.0.9)\n",
      "Requirement already satisfied: joblib in c:\\users\\asus\\anaconda3\\lib\\site-packages (from nltk->farm-haystack) (1.0.1)\n",
      "Requirement already satisfied: pyparsing>=2.0.2 in c:\\users\\asus\\anaconda3\\lib\\site-packages (from packaging->transformers==4.1.1->farm==0.7.1->farm-haystack) (2.4.7)\n",
      "Requirement already satisfied: prometheus-client in c:\\users\\asus\\anaconda3\\lib\\site-packages (from prometheus-flask-exporter->mlflow<=1.13.1->farm==0.7.1->farm-haystack) (0.10.1)\n",
      "Requirement already satisfied: grpcio-tools>=1.22.0 in c:\\users\\asus\\anaconda3\\lib\\site-packages (from pymilvus->farm-haystack) (1.38.0)\n",
      "Requirement already satisfied: ujson>=2.0.0 in c:\\users\\asus\\anaconda3\\lib\\site-packages (from pymilvus->farm-haystack) (4.0.2)\n",
      "Requirement already satisfied: grpcio>=1.22.0 in c:\\users\\asus\\anaconda3\\lib\\site-packages (from pymilvus->farm-haystack) (1.38.0)\n",
      "Requirement already satisfied: lxml>=2.3.2 in c:\\users\\asus\\anaconda3\\lib\\site-packages (from python-docx->farm-haystack) (4.6.3)\n",
      "Requirement already satisfied: scikit-learn>=0.21.3 in c:\\users\\asus\\anaconda3\\lib\\site-packages (from seqeval->farm==0.7.1->farm-haystack) (0.24.2)\n",
      "Requirement already satisfied: threadpoolctl>=2.0.0 in c:\\users\\asus\\anaconda3\\lib\\site-packages (from scikit-learn>=0.21.3->seqeval->farm==0.7.1->farm-haystack) (2.1.0)\n",
      "Requirement already satisfied: rdflib>=4.0 in c:\\users\\asus\\anaconda3\\lib\\site-packages (from SPARQLWrapper->farm-haystack) (5.0.0)\n",
      "Requirement already satisfied: pluggy>=0.12.0 in c:\\users\\asus\\anaconda3\\lib\\site-packages (from tox->farm-haystack) (0.13.1)\n",
      "Requirement already satisfied: colorama>=0.4.1 in c:\\users\\asus\\anaconda3\\lib\\site-packages (from tox->farm-haystack) (0.4.4)\n",
      "Requirement already satisfied: toml>=0.9.4 in c:\\users\\asus\\anaconda3\\lib\\site-packages (from tox->farm-haystack) (0.10.2)\n",
      "Requirement already satisfied: virtualenv!=20.0.0,!=20.0.1,!=20.0.2,!=20.0.3,!=20.0.4,!=20.0.5,!=20.0.6,!=20.0.7,>=16.0.0 in c:\\users\\asus\\appdata\\roaming\\python\\python38\\site-packages (from tox->farm-haystack) (20.4.6)\n",
      "Requirement already satisfied: py>=1.4.17 in c:\\users\\asus\\anaconda3\\lib\\site-packages (from tox->farm-haystack) (1.10.0)\n",
      "Requirement already satisfied: appdirs<2,>=1.4.3 in c:\\users\\asus\\appdata\\roaming\\python\\python38\\site-packages (from virtualenv!=20.0.0,!=20.0.1,!=20.0.2,!=20.0.3,!=20.0.4,!=20.0.5,!=20.0.6,!=20.0.7,>=16.0.0->tox->farm-haystack) (1.4.4)\n",
      "Requirement already satisfied: distlib<1,>=0.3.1 in c:\\users\\asus\\appdata\\roaming\\python\\python38\\site-packages (from virtualenv!=20.0.0,!=20.0.1,!=20.0.2,!=20.0.3,!=20.0.4,!=20.0.5,!=20.0.6,!=20.0.7,>=16.0.0->tox->farm-haystack) (0.3.1)\n",
      "Requirement already satisfied: h11>=0.8 in c:\\users\\asus\\anaconda3\\lib\\site-packages (from uvicorn->farm-haystack) (0.12.0)\n"
     ]
    }
   ],
   "source": [
    "!pip install farm-haystack\n",
    "from haystack.document_store.elasticsearch import ElasticsearchDocumentStore"
   ]
  },
  {
   "cell_type": "code",
   "execution_count": 4,
   "id": "c47754b1",
   "metadata": {},
   "outputs": [
    {
     "name": "stderr",
     "output_type": "stream",
     "text": [
      "05/31/2021 19:26:36 - INFO - elasticsearch -   HEAD http://localhost:9200/ [status:200 request:21.573s]\n",
      "05/31/2021 19:26:37 - INFO - elasticsearch -   HEAD http://localhost:9200/essays [status:200 request:1.081s]\n",
      "05/31/2021 19:26:37 - INFO - elasticsearch -   GET http://localhost:9200/essays [status:200 request:0.123s]\n",
      "05/31/2021 19:26:41 - INFO - elasticsearch -   PUT http://localhost:9200/essays/_mapping [status:200 request:3.717s]\n",
      "05/31/2021 19:26:41 - INFO - elasticsearch -   HEAD http://localhost:9200/label [status:200 request:0.046s]\n"
     ]
    }
   ],
   "source": [
    "doc_store = ElasticsearchDocumentStore(\n",
    "    host='localhost',\n",
    "    username='', password='',\n",
    "    index='essays'\n",
    ")"
   ]
  },
  {
   "cell_type": "code",
   "execution_count": 5,
   "id": "05597118",
   "metadata": {},
   "outputs": [],
   "source": [
    "from haystack.retriever.dense import DensePassageRetriever"
   ]
  },
  {
   "cell_type": "code",
   "execution_count": 6,
   "id": "3bf377fd",
   "metadata": {},
   "outputs": [],
   "source": [
    "retriever = DensePassageRetriever(\n",
    "    document_store=doc_store,\n",
    "    query_embedding_model='facebook/dpr-question_encoder-single-nq-base',\n",
    "    passage_embedding_model='facebook/dpr-ctx_encoder-single-nq-base',\n",
    "    use_gpu=True,\n",
    "    embed_title=True\n",
    ")"
   ]
  },
  {
   "cell_type": "code",
   "execution_count": 6,
   "id": "87818348",
   "metadata": {},
   "outputs": [
    {
     "name": "stderr",
     "output_type": "stream",
     "text": [
      "05/28/2021 20:54:14 - INFO - elasticsearch -   POST http://localhost:9200/essays/_count [status:200 request:0.972s]\n",
      "05/28/2021 20:54:14 - INFO - haystack.document_store.elasticsearch -   Updating embeddings for all 17208 docs ...\n",
      "05/28/2021 20:54:16 - INFO - elasticsearch -   POST http://localhost:9200/essays/_search?scroll=1d&size=10000 [status:200 request:1.703s]\n",
      "Creating Embeddings: 100%|███████████████████████████████████████████████████| 625/625 [1:31:43<00:00,  8.81s/ Batches]\n",
      "05/28/2021 22:29:13 - INFO - elasticsearch -   POST http://localhost:9200/_bulk?refresh=wait_for [status:200 request:47.336s]\n",
      "05/28/2021 22:29:19 - INFO - elasticsearch -   POST http://localhost:9200/_bulk?refresh=wait_for [status:200 request:5.227s]\n",
      "05/28/2021 22:29:31 - INFO - elasticsearch -   POST http://localhost:9200/_bulk?refresh=wait_for [status:200 request:12.177s]\n",
      "05/28/2021 22:29:39 - INFO - elasticsearch -   POST http://localhost:9200/_bulk?refresh=wait_for [status:200 request:7.688s]\n",
      "05/28/2021 22:29:43 - INFO - elasticsearch -   POST http://localhost:9200/_bulk?refresh=wait_for [status:200 request:3.008s]\n",
      "05/28/2021 22:29:45 - INFO - elasticsearch -   POST http://localhost:9200/_bulk?refresh=wait_for [status:200 request:1.772s]\n",
      "05/28/2021 22:29:58 - INFO - elasticsearch -   POST http://localhost:9200/_bulk?refresh=wait_for [status:200 request:12.996s]\n",
      "05/28/2021 22:30:01 - INFO - elasticsearch -   POST http://localhost:9200/_bulk?refresh=wait_for [status:200 request:3.114s]\n",
      "05/28/2021 22:30:05 - INFO - elasticsearch -   POST http://localhost:9200/_bulk?refresh=wait_for [status:200 request:2.785s]\n",
      "05/28/2021 22:30:07 - INFO - elasticsearch -   POST http://localhost:9200/_bulk?refresh=wait_for [status:200 request:1.790s]\n",
      "05/28/2021 22:30:10 - INFO - elasticsearch -   POST http://localhost:9200/_bulk?refresh=wait_for [status:200 request:2.032s]\n",
      "05/28/2021 22:30:18 - INFO - elasticsearch -   POST http://localhost:9200/_bulk?refresh=wait_for [status:200 request:7.337s]\n",
      "05/28/2021 22:30:20 - INFO - elasticsearch -   POST http://localhost:9200/_bulk?refresh=wait_for [status:200 request:1.838s]\n",
      "05/28/2021 22:30:23 - INFO - elasticsearch -   POST http://localhost:9200/_bulk?refresh=wait_for [status:200 request:1.911s]\n",
      "05/28/2021 22:30:25 - INFO - elasticsearch -   POST http://localhost:9200/_bulk?refresh=wait_for [status:200 request:1.860s]\n",
      "05/28/2021 22:30:31 - INFO - elasticsearch -   POST http://localhost:9200/_bulk?refresh=wait_for [status:200 request:5.901s]\n",
      "05/28/2021 22:30:33 - INFO - elasticsearch -   POST http://localhost:9200/_bulk?refresh=wait_for [status:200 request:1.751s]\n",
      "05/28/2021 22:30:35 - INFO - elasticsearch -   POST http://localhost:9200/_bulk?refresh=wait_for [status:200 request:1.826s]\n",
      "05/28/2021 22:30:37 - INFO - elasticsearch -   POST http://localhost:9200/_bulk?refresh=wait_for [status:200 request:1.847s]\n",
      "05/28/2021 22:30:39 - INFO - elasticsearch -   POST http://localhost:9200/_bulk?refresh=wait_for [status:200 request:1.809s]\n",
      "05/28/2021 22:30:40 - INFO - elasticsearch -   POST http://localhost:9200/_search/scroll [status:200 request:0.780s]\n",
      "05/28/2021 22:30:41 - INFO - elasticsearch -   POST http://localhost:9200/_search/scroll [status:200 request:0.027s]\n",
      "05/28/2021 22:30:41 - INFO - elasticsearch -   DELETE http://localhost:9200/_search/scroll [status:200 request:0.230s]\n",
      "Creating Embeddings: 100%|███████████████████████████████████████████████████| 451/451 [1:08:09<00:00,  9.07s/ Batches]\n",
      "05/28/2021 23:41:44 - INFO - elasticsearch -   POST http://localhost:9200/_bulk?refresh=wait_for [status:200 request:36.191s]\n",
      "05/28/2021 23:41:48 - INFO - elasticsearch -   POST http://localhost:9200/_bulk?refresh=wait_for [status:200 request:2.969s]\n",
      "05/28/2021 23:42:14 - INFO - elasticsearch -   POST http://localhost:9200/_bulk?refresh=wait_for [status:200 request:25.015s]\n",
      "05/28/2021 23:42:17 - INFO - elasticsearch -   POST http://localhost:9200/_bulk?refresh=wait_for [status:200 request:2.954s]\n",
      "05/28/2021 23:42:31 - INFO - elasticsearch -   POST http://localhost:9200/_bulk?refresh=wait_for [status:200 request:13.842s]\n",
      "05/28/2021 23:42:34 - INFO - elasticsearch -   POST http://localhost:9200/_bulk?refresh=wait_for [status:200 request:2.782s]\n",
      "05/28/2021 23:42:37 - INFO - elasticsearch -   POST http://localhost:9200/_bulk?refresh=wait_for [status:200 request:1.818s]\n",
      "05/28/2021 23:42:47 - INFO - elasticsearch -   POST http://localhost:9200/_bulk?refresh=wait_for [status:200 request:10.121s]\n",
      "05/28/2021 23:42:54 - INFO - elasticsearch -   POST http://localhost:9200/_bulk?refresh=wait_for [status:200 request:6.334s]\n",
      "05/28/2021 23:42:56 - INFO - elasticsearch -   POST http://localhost:9200/_bulk?refresh=wait_for [status:200 request:2.304s]\n",
      "05/28/2021 23:43:27 - INFO - elasticsearch -   POST http://localhost:9200/_bulk?refresh=wait_for [status:200 request:30.713s]\n",
      "05/28/2021 23:43:35 - INFO - elasticsearch -   POST http://localhost:9200/_bulk?refresh=wait_for [status:200 request:7.266s]\n",
      "05/28/2021 23:43:40 - INFO - elasticsearch -   POST http://localhost:9200/_bulk?refresh=wait_for [status:200 request:4.578s]\n",
      "05/28/2021 23:43:44 - INFO - elasticsearch -   POST http://localhost:9200/_bulk?refresh=wait_for [status:200 request:4.058s]\n",
      "05/28/2021 23:43:47 - INFO - elasticsearch -   POST http://localhost:9200/_bulk?refresh=wait_for [status:200 request:2.295s]\n"
     ]
    }
   ],
   "source": [
    "doc_store.update_embeddings(retriever=retriever)"
   ]
  },
  {
   "cell_type": "code",
   "execution_count": 7,
   "id": "26943019",
   "metadata": {},
   "outputs": [
    {
     "name": "stderr",
     "output_type": "stream",
     "text": [
      "05/31/2021 19:27:36 - INFO - elasticsearch -   POST http://localhost:9200/essays/_search [status:200 request:32.478s]\n"
     ]
    },
    {
     "data": {
      "text/plain": [
       "[{'text': \"In order to replicate this experiment, you would need to know what the samples were. In this group's procedure, they do not state what\", 'id': '0b152a38-7f69-4a0e-abbf-bd1df0c84a6a', 'score': 73.35169999999994, 'probability': 0.6755765790370192, 'question': None, 'meta': {'source': 'essays'}, 'embedding': None},\n",
       " {'text': 'To replicate this experiment one must know information that is not given by the procedure. First, we must know how much vinegar to put into the containers, enough to cover them? Next, we need to know how the vinegar will affect the material. Will  we completely submerge it or only partially? Finally, we need to know which materials to use. The data indicates them, but the procedure does not.', 'id': '93ddd43e-6f51-4b7b-8bae-49f6660bb35b', 'score': 71.62349999999992, 'probability': 0.6717774002399869, 'question': None, 'meta': {'source': 'essays'}, 'embedding': None},\n",
       " {'text': 'To exactly replicate this experiment you would have to know, how they measured the mass of the object, because without that how would we figure out the different masses. We have to know the starting mass, the ending mass and the difference in mass.', 'id': '21d0b7a2-dac9-44ac-900f-5d65aac64722', 'score': 71.16699999999992, 'probability': 0.6707700636968846, 'question': None, 'meta': {'source': 'essays'}, 'embedding': None},\n",
       " {'text': '001)takes instruction to the nucleus2)the nucleus replicates the DNA3)the DNA is looked over to see if there are any mutations4)the replicated DNA starts its job', 'id': '8bd33ce9-955d-44e1-b978-cff91079b372', 'score': 70.91219999999998, 'probability': 0.6702071248868603, 'question': None, 'meta': {'source': 'essays'}, 'embedding': None},\n",
       " {'text': '1To replicate this experiment you would need the four different samples used, materials used in this experiment and a start time and ending time.', 'id': '05a42e07-0c3c-4e68-9efa-34e23fa557a2', 'score': 70.35230000000001, 'probability': 0.6689684032695254, 'question': None, 'meta': {'source': 'essays'}, 'embedding': None},\n",
       " {'text': '1To replicate this experiment, you would need to know what samples to use. It does not state what samples were used until the data table was shown.', 'id': '1beda901-0ec4-43d9-910b-d232589ab7be', 'score': 70.18869999999993, 'probability': 0.6686060114992127, 'question': None, 'meta': {'source': 'essays'}, 'embedding': None},\n",
       " {'text': '00mRNA tells the oraganelles what to do to help the cell with reproducing. It would involve replicating and dividing the cell to become two cells.', 'id': '372750a2-1cee-4641-a6af-7018ff08da73', 'score': 70.02340000000004, 'probability': 0.6682396509385424, 'question': None, 'meta': {'source': 'essays'}, 'embedding': None},\n",
       " {'text': '0-Repeat step 1-6 ^p -Round this data for the 2nd trial ^p -Compare the 2 trials and find the average mass for the four samples. ^p -Observe the data and make a conclusion on the experiment.', 'id': '8814a283-eaca-4ebc-908a-ff7806ef7276', 'score': 69.88429999999994, 'probability': 0.6679312004752673, 'question': None, 'meta': {'source': 'essays'}, 'embedding': None},\n",
       " {'text': 'For the students to be able to make a replicate, they would need to tell use how much vinegar is used and what tipe of materials is needed for the expirement.', 'id': 'bd452c11-37df-4b61-b5f4-97753e5f7810', 'score': 69.77980000000002, 'probability': 0.6676993797426399, 'question': None, 'meta': {'source': 'essays'}, 'embedding': None},\n",
       " {'text': 'In order to replicate this groups procedure, you would need to know the independent and dependent variables as well as the control group for the procedure. Also, to ma ke it more clear, they would need to include a hypothesis of the experimenting well as a purpose.', 'id': '048b274e-eca9-417d-9939-604af988ece0', 'score': 69.6760999999999, 'probability': 0.6674692533793068, 'question': None, 'meta': {'source': 'essays'}, 'embedding': None}]"
      ]
     },
     "execution_count": 7,
     "metadata": {},
     "output_type": "execute_result"
    }
   ],
   "source": [
    "retriever.retrieve('what do we need to replicate the experiment')"
   ]
  },
  {
   "cell_type": "code",
   "execution_count": 9,
   "id": "de894f6e",
   "metadata": {},
   "outputs": [],
   "source": [
    "from haystack.reader.farm import FARMReader"
   ]
  },
  {
   "cell_type": "code",
   "execution_count": 18,
   "id": "faab15c9",
   "metadata": {},
   "outputs": [
    {
     "name": "stderr",
     "output_type": "stream",
     "text": [
      "05/31/2021 19:44:15 - INFO - farm.utils -   Using device: CPU \n",
      "05/31/2021 19:44:15 - INFO - farm.utils -   Number of GPUs: 0\n",
      "05/31/2021 19:44:15 - INFO - farm.utils -   Distributed Training: False\n",
      "05/31/2021 19:44:15 - INFO - farm.utils -   Automatic Mixed Precision: None\n",
      "Some weights of RobertaModel were not initialized from the model checkpoint at deepset/roberta-base-squad2 and are newly initialized: ['roberta.pooler.dense.weight', 'roberta.pooler.dense.bias']\n",
      "You should probably TRAIN this model on a down-stream task to be able to use it for predictions and inference.\n",
      "05/31/2021 19:44:38 - WARNING - farm.utils -   ML Logging is turned off. No parameters, metrics or artifacts will be logged to MLFlow.\n",
      "05/31/2021 19:44:38 - INFO - farm.utils -   Using device: CPU \n",
      "05/31/2021 19:44:38 - INFO - farm.utils -   Number of GPUs: 0\n",
      "05/31/2021 19:44:38 - INFO - farm.utils -   Distributed Training: False\n",
      "05/31/2021 19:44:38 - INFO - farm.utils -   Automatic Mixed Precision: None\n",
      "05/31/2021 19:44:39 - INFO - farm.infer -   Got ya 8 parallel workers to do inference ...\n",
      "05/31/2021 19:44:39 - INFO - farm.infer -    0    0    0    0    0    0    0    0 \n",
      "05/31/2021 19:44:39 - INFO - farm.infer -   /w\\  /w\\  /w\\  /w\\  /w\\  /w\\  /w\\  /|\\\n",
      "05/31/2021 19:44:39 - INFO - farm.infer -   /'\\  / \\  /'\\  /'\\  / \\  / \\  /'\\  /'\\\n",
      "05/31/2021 19:44:39 - INFO - farm.infer -                 \n"
     ]
    }
   ],
   "source": [
    "reader = FARMReader(model_name_or_path=\"deepset/roberta-base-squad2\",\n",
    "                use_gpu=True, no_ans_boost=-10, context_window_size=500,\n",
    "                top_k_per_candidate=3, top_k_per_sample=1,\n",
    "                num_processes=8, max_seq_len=256, doc_stride=128)"
   ]
  },
  {
   "cell_type": "code",
   "execution_count": 19,
   "id": "23900405",
   "metadata": {},
   "outputs": [],
   "source": [
    "pipeline = ExtractiveQAPipeline(reader, retriever)"
   ]
  },
  {
   "cell_type": "code",
   "execution_count": 20,
   "id": "8ad59d21",
   "metadata": {},
   "outputs": [],
   "source": [
    "from transformers import AutoModelForQuestionAnswering,AutoTokenizer,pipeline"
   ]
  },
  {
   "cell_type": "code",
   "execution_count": 21,
   "id": "3aa5ad9f",
   "metadata": {},
   "outputs": [],
   "source": [
    "from haystack.pipeline import ExtractiveQAPipeline\n",
    "pipeline = ExtractiveQAPipeline(reader, retriever)"
   ]
  },
  {
   "cell_type": "code",
   "execution_count": 22,
   "id": "5cdf2023",
   "metadata": {},
   "outputs": [
    {
     "name": "stderr",
     "output_type": "stream",
     "text": [
      "05/31/2021 19:45:17 - INFO - elasticsearch -   POST http://localhost:9200/essays/_search [status:200 request:8.394s]\n",
      "Inferencing Samples: 100%|█████████████████████████████████████████████████████████| 1/1 [00:04<00:00,  4.38s/ Batches]\n",
      "Inferencing Samples: 100%|█████████████████████████████████████████████████████████| 1/1 [00:00<00:00,  1.22 Batches/s]\n",
      "Inferencing Samples: 100%|█████████████████████████████████████████████████████████| 1/1 [00:00<00:00,  1.53 Batches/s]\n",
      "Inferencing Samples: 100%|█████████████████████████████████████████████████████████| 1/1 [00:01<00:00,  1.38s/ Batches]\n",
      "Inferencing Samples: 100%|█████████████████████████████████████████████████████████| 1/1 [00:00<00:00,  1.89 Batches/s]\n",
      "Inferencing Samples: 100%|█████████████████████████████████████████████████████████| 1/1 [00:00<00:00,  1.93 Batches/s]\n",
      "Inferencing Samples: 100%|█████████████████████████████████████████████████████████| 1/1 [00:00<00:00,  2.09 Batches/s]\n",
      "Inferencing Samples: 100%|█████████████████████████████████████████████████████████| 1/1 [00:00<00:00,  1.89 Batches/s]\n",
      "Inferencing Samples: 100%|█████████████████████████████████████████████████████████| 1/1 [00:00<00:00,  2.03 Batches/s]\n",
      "Inferencing Samples: 100%|█████████████████████████████████████████████████████████| 1/1 [00:00<00:00,  2.03 Batches/s]\n"
     ]
    }
   ],
   "source": [
    "# You can configure how many candidates the reader and retriever shall return\n",
    "# The higher top_k_retriever, the better (but also the slower) your answers. \n",
    "prediction = pipeline.run(query=\"what do we need to replicate the experiment?\", top_k_retriever=10, top_k_reader=5)"
   ]
  },
  {
   "cell_type": "code",
   "execution_count": 23,
   "id": "11b32889",
   "metadata": {},
   "outputs": [],
   "source": [
    "from haystack.utils import print_answers"
   ]
  },
  {
   "cell_type": "code",
   "execution_count": 24,
   "id": "ca98cbde",
   "metadata": {},
   "outputs": [
    {
     "name": "stdout",
     "output_type": "stream",
     "text": [
      "[   {   'answer': 'how they measured the mass of the object',\n",
      "        'context': 'To exactly replicate this experiment you would have to '\n",
      "                   'know, how they measured the mass of the object, because '\n",
      "                   'without that how would we figure out the different masses. '\n",
      "                   'We have to know the starting mass, the ending mass and the '\n",
      "                   'difference in mass.'},\n",
      "    {   'answer': 'the four different samples used, materials used in this '\n",
      "                  'experiment and a start time and ending time',\n",
      "        'context': '1To replicate this experiment you would need the four '\n",
      "                   'different samples used, materials used in this experiment '\n",
      "                   'and a start time and ending time.'},\n",
      "    {   'answer': 'to know what the samples were',\n",
      "        'context': 'In order to replicate this experiment, you would need to '\n",
      "                   \"know what the samples were. In this group's procedure, \"\n",
      "                   'they do not state what'},\n",
      "    {   'answer': 'know what samples to use',\n",
      "        'context': '1To replicate this experiment, you would need to know what '\n",
      "                   'samples to use. It does not state what samples were used '\n",
      "                   'until the data table was shown.'},\n",
      "    {   'answer': 'dividing the cell to become two cells',\n",
      "        'context': '00mRNA tells the oraganelles what to do to help the cell '\n",
      "                   'with reproducing. It would involve replicating and '\n",
      "                   'dividing the cell to become two cells.'}]\n"
     ]
    }
   ],
   "source": [
    "print_answers(prediction, details=\"minimal\")"
   ]
  },
  {
   "cell_type": "code",
   "execution_count": 25,
   "id": "ebcd2210",
   "metadata": {},
   "outputs": [
    {
     "name": "stderr",
     "output_type": "stream",
     "text": [
      "'nvidia-smi' is not recognized as an internal or external command,\n",
      "operable program or batch file.\n"
     ]
    }
   ],
   "source": [
    "# Make sure you have a GPU running\n",
    "!nvidia-smi"
   ]
  },
  {
   "cell_type": "code",
   "execution_count": null,
   "id": "7597adb2",
   "metadata": {},
   "outputs": [],
   "source": []
  }
 ],
 "metadata": {
  "kernelspec": {
   "display_name": "Python 3",
   "language": "python",
   "name": "python3"
  },
  "language_info": {
   "codemirror_mode": {
    "name": "ipython",
    "version": 3
   },
   "file_extension": ".py",
   "mimetype": "text/x-python",
   "name": "python",
   "nbconvert_exporter": "python",
   "pygments_lexer": "ipython3",
   "version": "3.8.10"
  }
 },
 "nbformat": 4,
 "nbformat_minor": 5
}
